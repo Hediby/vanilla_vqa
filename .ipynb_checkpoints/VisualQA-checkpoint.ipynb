{
 "cells": [
  {
   "cell_type": "code",
   "execution_count": 1,
   "metadata": {
    "collapsed": true
   },
   "outputs": [],
   "source": [
    "import json"
   ]
  },
  {
   "cell_type": "code",
   "execution_count": 7,
   "metadata": {
    "collapsed": false
   },
   "outputs": [
    {
     "name": "stdout",
     "output_type": "stream",
     "text": [
      "dict_keys(['license', 'data_subtype', 'data_type', 'info', 'annotations'])\n"
     ]
    }
   ],
   "source": [
    "A = json.loads(open('datasets/vqa/train/mscoco_train2014_annotations.json','r').read())\n",
    "print(A.keys())"
   ]
  },
  {
   "cell_type": "code",
   "execution_count": 18,
   "metadata": {
    "collapsed": false
   },
   "outputs": [
    {
     "name": "stdout",
     "output_type": "stream",
     "text": [
      "dict_keys(['questions', 'license', 'info', 'task_type', 'data_subtype', 'data_type'])\n"
     ]
    }
   ],
   "source": [
    "D = json.loads(open('datasets/vqa/train/OpenEnded_mscoco_train2014_questions.json','r').read())\n",
    "print(D.keys())"
   ]
  },
  {
   "cell_type": "code",
   "execution_count": 22,
   "metadata": {
    "collapsed": false
   },
   "outputs": [],
   "source": [
    "dataset = {}\n",
    "keys = 'image_id question'.split()\n",
    "for d in D['questions']:\n",
    "    dataset[d['question_id']] = dict((k,d[k]) for k in keys)\n",
    "    break"
   ]
  },
  {
   "cell_type": "code",
   "execution_count": null,
   "metadata": {
    "collapsed": true
   },
   "outputs": [],
   "source": []
  },
  {
   "cell_type": "code",
   "execution_count": 25,
   "metadata": {
    "collapsed": false
   },
   "outputs": [
    {
     "data": {
      "text/plain": [
       "{4870250: {'image_id': 487025, 'question': 'What shape is the bench seat?'}}"
      ]
     },
     "execution_count": 25,
     "metadata": {},
     "output_type": "execute_result"
    }
   ],
   "source": [
    "for a in A['annotations']:\n",
    "    \n",
    "    dataset[a['question_id']]['answers'] = "
   ]
  },
  {
   "cell_type": "code",
   "execution_count": 12,
   "metadata": {
    "collapsed": false
   },
   "outputs": [
    {
     "data": {
      "text/plain": [
       "4870250"
      ]
     },
     "execution_count": 12,
     "metadata": {},
     "output_type": "execute_result"
    }
   ],
   "source": [
    "d.pop('question_id')"
   ]
  },
  {
   "cell_type": "code",
   "execution_count": 8,
   "metadata": {
    "collapsed": false
   },
   "outputs": [
    {
     "data": {
      "text/plain": [
       "{'answer_type': 'other',\n",
       " 'answers': [{'answer': 'oval', 'answer_confidence': 'yes', 'answer_id': 1},\n",
       "  {'answer': 'semi circle', 'answer_confidence': 'yes', 'answer_id': 2},\n",
       "  {'answer': 'curved', 'answer_confidence': 'yes', 'answer_id': 3},\n",
       "  {'answer': 'curved', 'answer_confidence': 'yes', 'answer_id': 4},\n",
       "  {'answer': 'double curve', 'answer_confidence': 'yes', 'answer_id': 5},\n",
       "  {'answer': 'banana', 'answer_confidence': 'maybe', 'answer_id': 6},\n",
       "  {'answer': 'curved', 'answer_confidence': 'yes', 'answer_id': 7},\n",
       "  {'answer': 'wavy', 'answer_confidence': 'yes', 'answer_id': 8},\n",
       "  {'answer': 'twisting', 'answer_confidence': 'no', 'answer_id': 9},\n",
       "  {'answer': 'curved', 'answer_confidence': 'maybe', 'answer_id': 10}],\n",
       " 'image_id': 487025,\n",
       " 'multiple_choice_answer': 'curved',\n",
       " 'question_id': 4870250,\n",
       " 'question_type': 'what'}"
      ]
     },
     "execution_count": 8,
     "metadata": {},
     "output_type": "execute_result"
    }
   ],
   "source": [
    "A['annotations'][0]"
   ]
  }
 ],
 "metadata": {
  "kernelspec": {
   "display_name": "Python 3",
   "language": "python",
   "name": "python3"
  },
  "language_info": {
   "codemirror_mode": {
    "name": "ipython",
    "version": 3
   },
   "file_extension": ".py",
   "mimetype": "text/x-python",
   "name": "python",
   "nbconvert_exporter": "python",
   "pygments_lexer": "ipython3",
   "version": "3.4.3"
  }
 },
 "nbformat": 4,
 "nbformat_minor": 0
}
