{
 "cells": [
  {
   "cell_type": "code",
   "execution_count": 6,
   "metadata": {
    "collapsed": false
   },
   "outputs": [],
   "source": [
    "from os import listdir\n",
    "from os.path import join\n",
    "from time import time\n",
    "import json\n",
    "\n",
    "\n",
    "import tensorflow as tf\n",
    "import numpy as np\n",
    "\n",
    "\n",
    "import skimage\n",
    "from skimage.transform import resize\n",
    "from scipy.misc import imread\n",
    "\n",
    "from collections import Counter\n",
    "from time import time\n",
    "\n",
    "from utils import load_dataset, load_vocab, get_batch\n",
    "\n",
    "%matplotlib inline\n",
    "import matplotlib.pyplot as plt\n",
    "import matplotlib.patches as patches\n",
    "from sklearn.metrics.pairwise import euclidean_distances\n",
    "def load_image(img):\n",
    "    # load image\n",
    "    img = img / 255.0\n",
    "    assert (0 <= img).all() and (img <= 1.0).all()\n",
    "    # resize to 224, 224\n",
    "    resized_img = resize(img, (448,448))\n",
    "    return resized_img\n",
    "\n",
    "def intersect(r1,r2):\n",
    "    left = max(r1[0], r2[0])\n",
    "    top = max(r1[1], r2[1])\n",
    "    right = min(r1[0]+r1[2], r2[0]+r2[2])\n",
    "    bottom = min(r1[1]+r1[3], r2[1]+r2[3])\n",
    "    return left, top, max(0,right-left), max(0,bottom-top)\n",
    "\n",
    "def getIoU(candidates):\n",
    "    # Computes an IoU matrix from a list of rectangles\n",
    "    IoU = np.zeros((len(candidates), len(candidates)))\n",
    "    for i in range(len(candidates)):\n",
    "        r1 = candidates[i]\n",
    "        r1_area = r1[2]*r1[3]\n",
    "        for j in range(i+1,len(candidates)):\n",
    "            r2 = candidates[j]\n",
    "            r2_area = r2[2]*r2[3]\n",
    "            inter =  intersect(r1, r2)\n",
    "            inter = inter[2]*inter[3]\n",
    "            iou = inter / (r1_area+r2_area-inter)\n",
    "            IoU[i,j] = iou\n",
    "            IoU[j,i] = iou\n",
    "    return IoU\n",
    "\n",
    "def getDistances(candidates):\n",
    "    # Computes a distance matrix from a list of candidates\n",
    "    centers = [(c[0]+c[2]/2,c[1]+c[3]/2) for c in candidates]\n",
    "    return euclidean_distances(centers)"
   ]
  },
  {
   "cell_type": "code",
   "execution_count": 7,
   "metadata": {
    "collapsed": false
   },
   "outputs": [],
   "source": [
    "image_ids_path = \"datasets/vqa/train/img_ids.txt\"\n",
    "root_path = \"/srv/data/datasets/mscoco/images/train2014/\"\n",
    "image_ids = set([int(x.strip()) for x in open(image_ids_path).readlines()])\n",
    "image_paths = {}\n",
    "for x in image_ids:\n",
    "    name = 'COCO_train2014_'+format(x, '012')+'.jpg'\n",
    "    path = join(root_path,name)\n",
    "    image_paths[str(x)] = path"
   ]
  },
  {
   "cell_type": "code",
   "execution_count": 8,
   "metadata": {
    "collapsed": false
   },
   "outputs": [
    {
     "name": "stdout",
     "output_type": "stream",
     "text": [
      "Parse questions file\n",
      "Parse answers file\n",
      "Parse MC file\n",
      "Parse BB file\n",
      "Construct data array\n"
     ]
    }
   ],
   "source": [
    "def load_dataset(idxs_path,mc=False):\n",
    "    dataset = []\n",
    "    for l in open(idxs_path, 'r',encoding='latin1'):\n",
    "        if mc:\n",
    "            l = [[int(i) for i in ans.strip().split()] for ans in l.strip().split('|')]\n",
    "        else:\n",
    "            l = [int(i) for i in l.strip().split()]\n",
    "        dataset.append(l)\n",
    "    return dataset\n",
    "\n",
    "class Dataset(object):\n",
    "    def __init__(self, i_path, q_path, mc_path, a_path, bb_path, n_max=np.Inf):\n",
    "        self.i_path = i_path\n",
    "        self.q_path = q_path\n",
    "        self.a_path = a_path\n",
    "        self.mc_path = mc_path\n",
    "        self.bb_path = bb_path\n",
    "        print('Parse questions file')\n",
    "        q_data = load_dataset(self.q_path)\n",
    "        self.max_q = len(max(q_data, key=lambda x:len(x)))\n",
    "        print('Parse answers file')\n",
    "        a_data = load_dataset(self.a_path)\n",
    "        print('Parse MC file')\n",
    "        mc_data = load_dataset(self.mc_path,mc=True)\n",
    "        print('Parse BB file')\n",
    "        self.bboxes = {}\n",
    "        for l in open(self.bb_path):\n",
    "            l = json.loads(l)\n",
    "            self.bboxes.update(l)\n",
    "        print(\"Construct data array\")\n",
    "        self.data = []\n",
    "        self.max_bb = -np.Inf\n",
    "        for i_id,q,mc,a in zip(open(i_path),q_data,mc_data,a_data):\n",
    "            i_id = i_id.strip()\n",
    "            if i_id not in self.bboxes:\n",
    "                continue\n",
    "            bb = self.bboxes[i_id]\n",
    "            self.max_bb = max(self.max_bb,len(bb))\n",
    "            datum = (i_id,bb,q,mc,a)\n",
    "            self.data.append(datum)\n",
    "        self.data = np.array(self.data, dtype=object)\n",
    "        del q_data,a_data\n",
    "        self.N = len(self.data)\n",
    "        self.indexes = np.arange(self.N)\n",
    "    \n",
    "    def __iter__(self):\n",
    "        return self\n",
    "    \n",
    "    def batch_gen(self,batch_size=64):\n",
    "        np.random.shuffle(self.indexes)\n",
    "        n_batches = self.N // batch_size\n",
    "        for batch_id in range(n_batches):\n",
    "            begin = batch_id*batch_size\n",
    "            end = min((batch_id+1)*batch_size, self.N)\n",
    "            B = self.data[self.indexes[begin:end]]\n",
    "            yield B\n",
    "\n",
    "\n",
    "i_path = \"datasets/vqa/train/img_ids.txt\"\n",
    "mc_path =\"datasets/vqa/train/mcs.idxs\"\n",
    "q_path = \"datasets/vqa/train/questions.idxs\"\n",
    "a_path = \"datasets/vqa/train/answers.idxs\"\n",
    "bb_path = \"datasets/vqa/train/bounding_boxes.json\"\n",
    "train_set = Dataset(i_path,q_path,mc_path,a_path,bb_path)\n",
    "max_bb = train_set.max_bb"
   ]
  },
  {
   "cell_type": "code",
   "execution_count": 9,
   "metadata": {
    "collapsed": false
   },
   "outputs": [],
   "source": [
    "def create_feed_dict(batch,max_q,Na,batch_size):\n",
    "    V = np.zeros((batch_size, len(batch[0][0])), 'float32')\n",
    "    Q = np.zeros((batch_size, max_q), 'int32')\n",
    "    mask = np.zeros((max_q+1,batch_size), 'int32')\n",
    "    ans = np.zeros((batch_size,Na),'int32')\n",
    "    for i,(im,s,a) in enumerate(batch):\n",
    "        V[i] = im\n",
    "        Q[i] = np.pad(s, (0,max_q-len(s)), 'constant')\n",
    "        mask[len(s),i] = 1\n",
    "        ans[i,a] = 1\n",
    "    mask = mask[:,:,None]\n",
    "    return V,Q,mask,ans\n",
    "\n",
    "q_i2w, q_w2i = load_vocab('datasets/vqa/train/questions.vocab')\n",
    "a_i2w, a_w2i = load_vocab('datasets/vqa/train/answers.vocab')\n",
    "max_q = train_set.max_q\n",
    "Nq = len(q_i2w)\n",
    "Na = len(a_i2w)\n",
    "max_bb = 40"
   ]
  },
  {
   "cell_type": "code",
   "execution_count": 11,
   "metadata": {
    "collapsed": false
   },
   "outputs": [],
   "source": [
    "Ls = [len(v) for v in train_set.bboxes.values()]"
   ]
  },
  {
   "cell_type": "code",
   "execution_count": 14,
   "metadata": {
    "collapsed": false
   },
   "outputs": [
    {
     "data": {
      "image/png": "[encoded data removed]",
      "text/plain": [
       "<matplotlib.figure.Figure at 0x7ff568922fd0>"
      ]
     },
     "metadata": {},
     "output_type": "display_data"
    }
   ],
   "source": [
    "plt.figure()\n",
    "plt.hist(Ls,bins='auto')\n",
    "plt.show()"
   ]
  },
  {
   "cell_type": "code",
   "execution_count": 22,
   "metadata": {
    "collapsed": false
   },
   "outputs": [
    {
     "data": {
      "text/plain": [
       "[1, 28]"
      ]
     },
     "execution_count": 22,
     "metadata": {},
     "output_type": "execute_result"
    }
   ],
   "source": [
    "M = [28]\n",
    "M.insert(0, 1)\n",
    "M"
   ]
  },
  {
   "cell_type": "code",
   "execution_count": 36,
   "metadata": {
    "collapsed": false,
    "scrolled": true
   },
   "outputs": [],
   "source": [
    "tf.reset_default_graph()\n",
    "def indexes_tensor(axis):\n",
    "    indexes = tf.expand_dims(tf.range(0,28,1),axis)\n",
    "    mat_multiples = [28]\n",
    "    mat_multiples.insert(1-axis,1)\n",
    "    matrix = tf.tile(indexes, mat_multiples)\n",
    "    tensor = tf.tile(tf.expand_dims(matrix,0),[8,1,1])\n",
    "#     op = tf.tile(\n",
    "#         tf.expand_dims(\n",
    "#             tf.tile(\n",
    "#                 tf.expand_dims(\n",
    "#                     tf.range(0,28,1),axis\n",
    "#                 ), [28,1]\n",
    "#             ), axis\n",
    "#         ), [8,1,1]\n",
    "#     )\n",
    "    return tensor\n",
    "op = indexes_tensor(1)\n",
    "        \n",
    "gpu_options = tf.GPUOptions(per_process_gpu_memory_fraction=0.2)\n",
    "sess = tf.Session(config=tf.ConfigProto(log_device_placement=True,\n",
    "                                        gpu_options=gpu_options))\n",
    "sess.run(tf.initialize_all_variables())\n",
    "O = sess.run(op)"
   ]
  },
  {
   "cell_type": "code",
   "execution_count": 64,
   "metadata": {
    "collapsed": false
   },
   "outputs": [
    {
     "name": "stdout",
     "output_type": "stream",
     "text": [
      "(8, 28, 28, 512) (8, 40, 4)\n",
      "(8, 4)\n"
     ]
    },
    {
     "ename": "InvalidArgumentError",
     "evalue": "You must feed a value for placeholder tensor 'Placeholder_1' with dtype int32 and shape [8,40,4]\n\t [[Node: Placeholder_1 = Placeholder[dtype=DT_INT32, shape=[8,40,4], _device=\"/job:localhost/replica:0/task:0/gpu:0\"]()]]\n\t [[Node: Equal_4/_15 = _Recv[client_terminated=false, recv_device=\"/job:localhost/replica:0/task:0/cpu:0\", send_device=\"/job:localhost/replica:0/task:0/gpu:0\", send_device_incarnation=1, tensor_name=\"edge_35_Equal_4\", tensor_type=DT_BOOL, _device=\"/job:localhost/replica:0/task:0/cpu:0\"]()]]\nCaused by op 'Placeholder_1', defined at:\n  File \"/usr/lib/python3.4/runpy.py\", line 170, in _run_module_as_main\n    \"__main__\", mod_spec)\n  File \"/usr/lib/python3.4/runpy.py\", line 85, in _run_code\n    exec(code, run_globals)\n  File \"/usr/local/lib/python3.4/dist-packages/ipykernel/__main__.py\", line 3, in <module>\n    app.launch_new_instance()\n  File \"/usr/local/lib/python3.4/dist-packages/traitlets/config/application.py\", line 596, in launch_instance\n    app.start()\n  File \"/usr/local/lib/python3.4/dist-packages/ipykernel/kernelapp.py\", line 442, in start\n    ioloop.IOLoop.instance().start()\n  File \"/usr/local/lib/python3.4/dist-packages/zmq/eventloop/ioloop.py\", line 162, in start\n    super(ZMQIOLoop, self).start()\n  File \"/usr/local/lib/python3.4/dist-packages/tornado/ioloop.py\", line 883, in start\n    handler_func(fd_obj, events)\n  File \"/usr/local/lib/python3.4/dist-packages/tornado/stack_context.py\", line 275, in null_wrapper\n    return fn(*args, **kwargs)\n  File \"/usr/local/lib/python3.4/dist-packages/zmq/eventloop/zmqstream.py\", line 440, in _handle_events\n    self._handle_recv()\n  File \"/usr/local/lib/python3.4/dist-packages/zmq/eventloop/zmqstream.py\", line 472, in _handle_recv\n    self._run_callback(callback, msg)\n  File \"/usr/local/lib/python3.4/dist-packages/zmq/eventloop/zmqstream.py\", line 414, in _run_callback\n    callback(*args, **kwargs)\n  File \"/usr/local/lib/python3.4/dist-packages/tornado/stack_context.py\", line 275, in null_wrapper\n    return fn(*args, **kwargs)\n  File \"/usr/local/lib/python3.4/dist-packages/ipykernel/kernelbase.py\", line 276, in dispatcher\n    return self.dispatch_shell(stream, msg)\n  File \"/usr/local/lib/python3.4/dist-packages/ipykernel/kernelbase.py\", line 228, in dispatch_shell\n    handler(stream, idents, msg)\n  File \"/usr/local/lib/python3.4/dist-packages/ipykernel/kernelbase.py\", line 391, in execute_request\n    user_expressions, allow_stdin)\n  File \"/usr/local/lib/python3.4/dist-packages/ipykernel/ipkernel.py\", line 199, in do_execute\n    shell.run_cell(code, store_history=store_history, silent=silent)\n  File \"/usr/local/lib/python3.4/dist-packages/IPython/core/interactiveshell.py\", line 2723, in run_cell\n    interactivity=interactivity, compiler=compiler, result=result)\n  File \"/usr/local/lib/python3.4/dist-packages/IPython/core/interactiveshell.py\", line 2825, in run_ast_nodes\n    if self.run_code(code, result):\n  File \"/usr/local/lib/python3.4/dist-packages/IPython/core/interactiveshell.py\", line 2885, in run_code\n    exec(code_obj, self.user_global_ns, self.user_ns)\n  File \"<ipython-input-38-fed62fbd229e>\", line 14, in <module>\n    Pl['boxes'] = tf.placeholder(\"int32\",[batch_size,max_bb,4]) #batch x boxes x coords\n  File \"/usr/local/lib/python3.4/dist-packages/tensorflow/python/ops/array_ops.py\", line 895, in placeholder\n    name=name)\n  File \"/usr/local/lib/python3.4/dist-packages/tensorflow/python/ops/gen_array_ops.py\", line 1238, in _placeholder\n    name=name)\n  File \"/usr/local/lib/python3.4/dist-packages/tensorflow/python/ops/op_def_library.py\", line 704, in apply_op\n    op_def=op_def)\n  File \"/usr/local/lib/python3.4/dist-packages/tensorflow/python/framework/ops.py\", line 2260, in create_op\n    original_op=self._default_original_op, op_def=op_def)\n  File \"/usr/local/lib/python3.4/dist-packages/tensorflow/python/framework/ops.py\", line 1230, in __init__\n    self._traceback = _extract_stack()\n",
     "output_type": "error",
     "traceback": [
      "\u001b[1;31m---------------------------------------------------------------------------\u001b[0m",
      "\u001b[1;31mInvalidArgumentError\u001b[0m                      Traceback (most recent call last)",
      "\u001b[1;32m/usr/local/lib/python3.4/dist-packages/tensorflow/python/client/session.py\u001b[0m in \u001b[0;36m_do_call\u001b[1;34m(self, fn, *args)\u001b[0m\n\u001b[0;32m    714\u001b[0m     \u001b[1;32mtry\u001b[0m\u001b[1;33m:\u001b[0m\u001b[1;33m\u001b[0m\u001b[0m\n\u001b[1;32m--> 715\u001b[1;33m       \u001b[1;32mreturn\u001b[0m \u001b[0mfn\u001b[0m\u001b[1;33m(\u001b[0m\u001b[1;33m*\u001b[0m\u001b[0margs\u001b[0m\u001b[1;33m)\u001b[0m\u001b[1;33m\u001b[0m\u001b[0m\n\u001b[0m\u001b[0;32m    716\u001b[0m     \u001b[1;32mexcept\u001b[0m \u001b[0merrors\u001b[0m\u001b[1;33m.\u001b[0m\u001b[0mOpError\u001b[0m \u001b[1;32mas\u001b[0m \u001b[0me\u001b[0m\u001b[1;33m:\u001b[0m\u001b[1;33m\u001b[0m\u001b[0m\n",
      "\u001b[1;32m/usr/local/lib/python3.4/dist-packages/tensorflow/python/client/session.py\u001b[0m in \u001b[0;36m_run_fn\u001b[1;34m(session, feed_dict, fetch_list, target_list, options, run_metadata)\u001b[0m\n\u001b[0;32m    696\u001b[0m                                  \u001b[0mfeed_dict\u001b[0m\u001b[1;33m,\u001b[0m \u001b[0mfetch_list\u001b[0m\u001b[1;33m,\u001b[0m \u001b[0mtarget_list\u001b[0m\u001b[1;33m,\u001b[0m\u001b[1;33m\u001b[0m\u001b[0m\n\u001b[1;32m--> 697\u001b[1;33m                                  status, run_metadata)\n\u001b[0m\u001b[0;32m    698\u001b[0m \u001b[1;33m\u001b[0m\u001b[0m\n",
      "\u001b[1;32m/usr/lib/python3.4/contextlib.py\u001b[0m in \u001b[0;36m__exit__\u001b[1;34m(self, type, value, traceback)\u001b[0m\n\u001b[0;32m     65\u001b[0m             \u001b[1;32mtry\u001b[0m\u001b[1;33m:\u001b[0m\u001b[1;33m\u001b[0m\u001b[0m\n\u001b[1;32m---> 66\u001b[1;33m                 \u001b[0mnext\u001b[0m\u001b[1;33m(\u001b[0m\u001b[0mself\u001b[0m\u001b[1;33m.\u001b[0m\u001b[0mgen\u001b[0m\u001b[1;33m)\u001b[0m\u001b[1;33m\u001b[0m\u001b[0m\n\u001b[0m\u001b[0;32m     67\u001b[0m             \u001b[1;32mexcept\u001b[0m \u001b[0mStopIteration\u001b[0m\u001b[1;33m:\u001b[0m\u001b[1;33m\u001b[0m\u001b[0m\n",
      "\u001b[1;32m/usr/local/lib/python3.4/dist-packages/tensorflow/python/framework/errors.py\u001b[0m in \u001b[0;36mraise_exception_on_not_ok_status\u001b[1;34m()\u001b[0m\n\u001b[0;32m    449\u001b[0m           \u001b[0mcompat\u001b[0m\u001b[1;33m.\u001b[0m\u001b[0mas_text\u001b[0m\u001b[1;33m(\u001b[0m\u001b[0mpywrap_tensorflow\u001b[0m\u001b[1;33m.\u001b[0m\u001b[0mTF_Message\u001b[0m\u001b[1;33m(\u001b[0m\u001b[0mstatus\u001b[0m\u001b[1;33m)\u001b[0m\u001b[1;33m)\u001b[0m\u001b[1;33m,\u001b[0m\u001b[1;33m\u001b[0m\u001b[0m\n\u001b[1;32m--> 450\u001b[1;33m           pywrap_tensorflow.TF_GetCode(status))\n\u001b[0m\u001b[0;32m    451\u001b[0m   \u001b[1;32mfinally\u001b[0m\u001b[1;33m:\u001b[0m\u001b[1;33m\u001b[0m\u001b[0m\n",
      "\u001b[1;31mInvalidArgumentError\u001b[0m: You must feed a value for placeholder tensor 'Placeholder_1' with dtype int32 and shape [8,40,4]\n\t [[Node: Placeholder_1 = Placeholder[dtype=DT_INT32, shape=[8,40,4], _device=\"/job:localhost/replica:0/task:0/gpu:0\"]()]]\n\t [[Node: Equal_4/_15 = _Recv[client_terminated=false, recv_device=\"/job:localhost/replica:0/task:0/cpu:0\", send_device=\"/job:localhost/replica:0/task:0/gpu:0\", send_device_incarnation=1, tensor_name=\"edge_35_Equal_4\", tensor_type=DT_BOOL, _device=\"/job:localhost/replica:0/task:0/cpu:0\"]()]]",
      "\nDuring handling of the above exception, another exception occurred:\n",
      "\u001b[1;31mInvalidArgumentError\u001b[0m                      Traceback (most recent call last)",
      "\u001b[1;32m<ipython-input-64-f74d4ae58de1>\u001b[0m in \u001b[0;36m<module>\u001b[1;34m()\u001b[0m\n\u001b[0;32m     11\u001b[0m                                         gpu_options=gpu_options))\n\u001b[0;32m     12\u001b[0m \u001b[0msess\u001b[0m\u001b[1;33m.\u001b[0m\u001b[0mrun\u001b[0m\u001b[1;33m(\u001b[0m\u001b[0mtf\u001b[0m\u001b[1;33m.\u001b[0m\u001b[0minitialize_all_variables\u001b[0m\u001b[1;33m(\u001b[0m\u001b[1;33m)\u001b[0m\u001b[1;33m)\u001b[0m\u001b[1;33m\u001b[0m\u001b[0m\n\u001b[1;32m---> 13\u001b[1;33m \u001b[0mO\u001b[0m \u001b[1;33m=\u001b[0m \u001b[0msess\u001b[0m\u001b[1;33m.\u001b[0m\u001b[0mrun\u001b[0m\u001b[1;33m(\u001b[0m\u001b[0mmask\u001b[0m\u001b[1;33m)\u001b[0m\u001b[1;33m\u001b[0m\u001b[0m\n\u001b[0m",
      "\u001b[1;32m/usr/local/lib/python3.4/dist-packages/tensorflow/python/client/session.py\u001b[0m in \u001b[0;36mrun\u001b[1;34m(self, fetches, feed_dict, options, run_metadata)\u001b[0m\n\u001b[0;32m    370\u001b[0m     \u001b[1;32mtry\u001b[0m\u001b[1;33m:\u001b[0m\u001b[1;33m\u001b[0m\u001b[0m\n\u001b[0;32m    371\u001b[0m       result = self._run(None, fetches, feed_dict, options_ptr,\n\u001b[1;32m--> 372\u001b[1;33m                          run_metadata_ptr)\n\u001b[0m\u001b[0;32m    373\u001b[0m       \u001b[1;32mif\u001b[0m \u001b[0mrun_metadata\u001b[0m\u001b[1;33m:\u001b[0m\u001b[1;33m\u001b[0m\u001b[0m\n\u001b[0;32m    374\u001b[0m         \u001b[0mproto_data\u001b[0m \u001b[1;33m=\u001b[0m \u001b[0mtf_session\u001b[0m\u001b[1;33m.\u001b[0m\u001b[0mTF_GetBuffer\u001b[0m\u001b[1;33m(\u001b[0m\u001b[0mrun_metadata_ptr\u001b[0m\u001b[1;33m)\u001b[0m\u001b[1;33m\u001b[0m\u001b[0m\n",
      "\u001b[1;32m/usr/local/lib/python3.4/dist-packages/tensorflow/python/client/session.py\u001b[0m in \u001b[0;36m_run\u001b[1;34m(self, handle, fetches, feed_dict, options, run_metadata)\u001b[0m\n\u001b[0;32m    634\u001b[0m     \u001b[1;32mtry\u001b[0m\u001b[1;33m:\u001b[0m\u001b[1;33m\u001b[0m\u001b[0m\n\u001b[0;32m    635\u001b[0m       results = self._do_run(handle, target_list, unique_fetches,\n\u001b[1;32m--> 636\u001b[1;33m                              feed_dict_string, options, run_metadata)\n\u001b[0m\u001b[0;32m    637\u001b[0m     \u001b[1;32mfinally\u001b[0m\u001b[1;33m:\u001b[0m\u001b[1;33m\u001b[0m\u001b[0m\n\u001b[0;32m    638\u001b[0m       \u001b[1;31m# The movers are no longer used. Delete them.\u001b[0m\u001b[1;33m\u001b[0m\u001b[1;33m\u001b[0m\u001b[0m\n",
      "\u001b[1;32m/usr/local/lib/python3.4/dist-packages/tensorflow/python/client/session.py\u001b[0m in \u001b[0;36m_do_run\u001b[1;34m(self, handle, target_list, fetch_list, feed_dict, options, run_metadata)\u001b[0m\n\u001b[0;32m    706\u001b[0m     \u001b[1;32mif\u001b[0m \u001b[0mhandle\u001b[0m \u001b[1;32mis\u001b[0m \u001b[1;32mNone\u001b[0m\u001b[1;33m:\u001b[0m\u001b[1;33m\u001b[0m\u001b[0m\n\u001b[0;32m    707\u001b[0m       return self._do_call(_run_fn, self._session, feed_dict, fetch_list,\n\u001b[1;32m--> 708\u001b[1;33m                            target_list, options, run_metadata)\n\u001b[0m\u001b[0;32m    709\u001b[0m     \u001b[1;32melse\u001b[0m\u001b[1;33m:\u001b[0m\u001b[1;33m\u001b[0m\u001b[0m\n\u001b[0;32m    710\u001b[0m       return self._do_call(_prun_fn, self._session, handle, feed_dict,\n",
      "\u001b[1;32m/usr/local/lib/python3.4/dist-packages/tensorflow/python/client/session.py\u001b[0m in \u001b[0;36m_do_call\u001b[1;34m(self, fn, *args)\u001b[0m\n\u001b[0;32m    726\u001b[0m         \u001b[1;32mexcept\u001b[0m \u001b[0mKeyError\u001b[0m\u001b[1;33m:\u001b[0m\u001b[1;33m\u001b[0m\u001b[0m\n\u001b[0;32m    727\u001b[0m           \u001b[1;32mpass\u001b[0m\u001b[1;33m\u001b[0m\u001b[0m\n\u001b[1;32m--> 728\u001b[1;33m       \u001b[1;32mraise\u001b[0m \u001b[0mtype\u001b[0m\u001b[1;33m(\u001b[0m\u001b[0me\u001b[0m\u001b[1;33m)\u001b[0m\u001b[1;33m(\u001b[0m\u001b[0mnode_def\u001b[0m\u001b[1;33m,\u001b[0m \u001b[0mop\u001b[0m\u001b[1;33m,\u001b[0m \u001b[0mmessage\u001b[0m\u001b[1;33m)\u001b[0m\u001b[1;33m\u001b[0m\u001b[0m\n\u001b[0m\u001b[0;32m    729\u001b[0m \u001b[1;33m\u001b[0m\u001b[0m\n\u001b[0;32m    730\u001b[0m   \u001b[1;32mdef\u001b[0m \u001b[0m_extend_graph\u001b[0m\u001b[1;33m(\u001b[0m\u001b[0mself\u001b[0m\u001b[1;33m)\u001b[0m\u001b[1;33m:\u001b[0m\u001b[1;33m\u001b[0m\u001b[0m\n",
      "\u001b[1;31mInvalidArgumentError\u001b[0m: You must feed a value for placeholder tensor 'Placeholder_1' with dtype int32 and shape [8,40,4]\n\t [[Node: Placeholder_1 = Placeholder[dtype=DT_INT32, shape=[8,40,4], _device=\"/job:localhost/replica:0/task:0/gpu:0\"]()]]\n\t [[Node: Equal_4/_15 = _Recv[client_terminated=false, recv_device=\"/job:localhost/replica:0/task:0/cpu:0\", send_device=\"/job:localhost/replica:0/task:0/gpu:0\", send_device_incarnation=1, tensor_name=\"edge_35_Equal_4\", tensor_type=DT_BOOL, _device=\"/job:localhost/replica:0/task:0/cpu:0\"]()]]\nCaused by op 'Placeholder_1', defined at:\n  File \"/usr/lib/python3.4/runpy.py\", line 170, in _run_module_as_main\n    \"__main__\", mod_spec)\n  File \"/usr/lib/python3.4/runpy.py\", line 85, in _run_code\n    exec(code, run_globals)\n  File \"/usr/local/lib/python3.4/dist-packages/ipykernel/__main__.py\", line 3, in <module>\n    app.launch_new_instance()\n  File \"/usr/local/lib/python3.4/dist-packages/traitlets/config/application.py\", line 596, in launch_instance\n    app.start()\n  File \"/usr/local/lib/python3.4/dist-packages/ipykernel/kernelapp.py\", line 442, in start\n    ioloop.IOLoop.instance().start()\n  File \"/usr/local/lib/python3.4/dist-packages/zmq/eventloop/ioloop.py\", line 162, in start\n    super(ZMQIOLoop, self).start()\n  File \"/usr/local/lib/python3.4/dist-packages/tornado/ioloop.py\", line 883, in start\n    handler_func(fd_obj, events)\n  File \"/usr/local/lib/python3.4/dist-packages/tornado/stack_context.py\", line 275, in null_wrapper\n    return fn(*args, **kwargs)\n  File \"/usr/local/lib/python3.4/dist-packages/zmq/eventloop/zmqstream.py\", line 440, in _handle_events\n    self._handle_recv()\n  File \"/usr/local/lib/python3.4/dist-packages/zmq/eventloop/zmqstream.py\", line 472, in _handle_recv\n    self._run_callback(callback, msg)\n  File \"/usr/local/lib/python3.4/dist-packages/zmq/eventloop/zmqstream.py\", line 414, in _run_callback\n    callback(*args, **kwargs)\n  File \"/usr/local/lib/python3.4/dist-packages/tornado/stack_context.py\", line 275, in null_wrapper\n    return fn(*args, **kwargs)\n  File \"/usr/local/lib/python3.4/dist-packages/ipykernel/kernelbase.py\", line 276, in dispatcher\n    return self.dispatch_shell(stream, msg)\n  File \"/usr/local/lib/python3.4/dist-packages/ipykernel/kernelbase.py\", line 228, in dispatch_shell\n    handler(stream, idents, msg)\n  File \"/usr/local/lib/python3.4/dist-packages/ipykernel/kernelbase.py\", line 391, in execute_request\n    user_expressions, allow_stdin)\n  File \"/usr/local/lib/python3.4/dist-packages/ipykernel/ipkernel.py\", line 199, in do_execute\n    shell.run_cell(code, store_history=store_history, silent=silent)\n  File \"/usr/local/lib/python3.4/dist-packages/IPython/core/interactiveshell.py\", line 2723, in run_cell\n    interactivity=interactivity, compiler=compiler, result=result)\n  File \"/usr/local/lib/python3.4/dist-packages/IPython/core/interactiveshell.py\", line 2825, in run_ast_nodes\n    if self.run_code(code, result):\n  File \"/usr/local/lib/python3.4/dist-packages/IPython/core/interactiveshell.py\", line 2885, in run_code\n    exec(code_obj, self.user_global_ns, self.user_ns)\n  File \"<ipython-input-38-fed62fbd229e>\", line 14, in <module>\n    Pl['boxes'] = tf.placeholder(\"int32\",[batch_size,max_bb,4]) #batch x boxes x coords\n  File \"/usr/local/lib/python3.4/dist-packages/tensorflow/python/ops/array_ops.py\", line 895, in placeholder\n    name=name)\n  File \"/usr/local/lib/python3.4/dist-packages/tensorflow/python/ops/gen_array_ops.py\", line 1238, in _placeholder\n    name=name)\n  File \"/usr/local/lib/python3.4/dist-packages/tensorflow/python/ops/op_def_library.py\", line 704, in apply_op\n    op_def=op_def)\n  File \"/usr/local/lib/python3.4/dist-packages/tensorflow/python/framework/ops.py\", line 2260, in create_op\n    original_op=self._default_original_op, op_def=op_def)\n  File \"/usr/local/lib/python3.4/dist-packages/tensorflow/python/framework/ops.py\", line 1230, in __init__\n    self._traceback = _extract_stack()\n"
     ]
    }
   ],
   "source": [
    "print(out_tensor.get_shape(), boxes_o.get_shape())\n",
    "for j in range(max_bb):\n",
    "    bxs = boxes_o[:,j,:]\n",
    "    X,Y = indexes_tensor(0),indexes_tensor(1)\n",
    "    bxs_expanded = tf.expand_dims(tf.expand_dims(bxs,-1),-1)\n",
    "    mask = tf.equal(X,bxs_expanded[:,0,:,:])\n",
    "    print(bxs.get_shape())\n",
    "    break\n",
    "gpu_options = tf.GPUOptions(per_process_gpu_memory_fraction=0.2)\n",
    "sess = tf.Session(config=tf.ConfigProto(log_device_placement=True,\n",
    "                                        gpu_options=gpu_options))\n",
    "sess.run(tf.initialize_all_variables())\n",
    "O = sess.run(mask,feed_dict={})"
   ]
  },
  {
   "cell_type": "code",
   "execution_count": null,
   "metadata": {
    "collapsed": true
   },
   "outputs": [],
   "source": [
    "print(out_tensor.get_shape(),mask.get_shape())\n",
    "op = tf.boolean_mask(out_tensor, mask)\n",
    "        \n",
    "gpu_options = tf.GPUOptions(per_process_gpu_memory_fraction=0.5)\n",
    "\n",
    "sess = tf.Session(config=tf.ConfigProto(log_device_placement=True,\n",
    "                                        gpu_options=gpu_options))\n",
    "init = tf.initialize_all_variables()\n",
    "sess.run(init)"
   ]
  },
  {
   "cell_type": "code",
   "execution_count": 179,
   "metadata": {
    "collapsed": false
   },
   "outputs": [],
   "source": [
    "O,M = sess.run([op,mask],feed_dict=feed_dict)"
   ]
  },
  {
   "cell_type": "code",
   "execution_count": 191,
   "metadata": {
    "collapsed": false
   },
   "outputs": [
    {
     "data": {
      "text/plain": [
       "((5, 512), (8, 28, 28))"
      ]
     },
     "execution_count": 191,
     "metadata": {},
     "output_type": "execute_result"
    }
   ],
   "source": [
    "O.shape,M.shape"
   ]
  },
  {
   "cell_type": "code",
   "execution_count": 159,
   "metadata": {
    "collapsed": false,
    "scrolled": false
   },
   "outputs": [
    {
     "name": "stdout",
     "output_type": "stream",
     "text": [
      "(8, 28, 28, 512) (8, 40, 4)\n"
     ]
    }
   ],
   "source": [
    "batch_size = 8\n",
    "di = 512\n",
    "dq = 200\n",
    "tf.reset_default_graph()\n",
    "with open(\"tensorflow-vgg16/vgg16.tfmodel\", mode='rb') as f:\n",
    "    fileContent = f.read()\n",
    "\n",
    "Pl = {}\n",
    "with tf.device('/gpu:0'):\n",
    "    graph_def = tf.GraphDef()\n",
    "    graph_def.ParseFromString(fileContent)\n",
    "\n",
    "    Pl['images'] = tf.placeholder(\"float\", [batch_size, 448, 448, 3]) #batch x width x height x channels\n",
    "    Pl['boxes'] = tf.placeholder(\"int32\",[batch_size,max_bb,4]) #batch x boxes x coords\n",
    "\n",
    "    tf.import_graph_def(graph_def, input_map={\"images\": Pl['images']})\n",
    "\n",
    "    graph = tf.get_default_graph()\n",
    "    out_tensor = graph.get_tensor_by_name(\"import/conv5_3/Relu:0\")\n",
    "    boxes_o = tf.cast(Pl['boxes']/16,tf.int32)\n",
    "    print(out_tensor.get_shape(), boxes_o.get_shape())\n",
    "    masks = []\n",
    "    Rs = []\n",
    "    with tf.device('/cpu:0'):\n",
    "        for j in range(max_bb):\n",
    "            bxs = boxes_o[:,j,:]\n",
    "            X,Y = indexes_tensor(0),indexes_tensor(1)\n",
    "            bxs_expanded = tf.expand_dims(tf.expand_dims(bxs,-1),-1)\n",
    "            maskX = tf.logical_and(tf.greater_equal(X,bxs_expanded[:,0,:,:]),\n",
    "                                   tf.less_equal(X,bxs_expanded[:,2,:,:]))\n",
    "            maskY = tf.logical_and(tf.greater_equal(Y,bxs_expanded[:,1,:,:]),\n",
    "                                   tf.less_equal(Y,bxs_expanded[:,3,:,:]))\n",
    "            mask = tf.logical_and(maskX,maskY)\n",
    "            R = tf.boolean_mask(out_tensor,mask)\n",
    "            Rs.append(tf.reduce_max(R,reduction_indices=0))\n",
    "            # Must be batch_size x 512\n",
    "            masks.append(mask)\n",
    "        masks = tf.pack(masks)\n",
    "        Rs = tf.pack(Rs)\n",
    "#     V = tf.zeros((batch_size, max_bb, di))\n",
    "#     with tf.device('/cpu:0'):\n",
    "#         for i in range(batch_size):\n",
    "#             bxs = boxes_o[i,:,:]\n",
    "#             f = out_tensor[i,:,:,:]\n",
    "#             v = []\n",
    "#             for j in range(max_bb):\n",
    "#                 bx = bxs[j,:]\n",
    "#                 out = tf.cond(tf.equal(tf.reduce_sum(bx),0), \n",
    "#                               lambda: tf.zeros(di),\n",
    "#                               lambda: tf.reduce_max(tf.slice(f,[bx[1],bx[0],0], [bx[3],bx[2],-1]), \n",
    "#                                             reduction_indices=[0,1]))\n",
    "#                 v.append(out)\n",
    "#             V[i,:,:] = tf.pack(v)\n",
    "# #             V.append(tf.pack(v))\n",
    "#         V = tf.pack(V)\n",
    "        \n",
    "gpu_options = tf.GPUOptions(per_process_gpu_memory_fraction=0.5)\n",
    "\n",
    "sess = tf.Session(config=tf.ConfigProto(log_device_placement=True,\n",
    "                                        gpu_options=gpu_options))\n",
    "init = tf.initialize_all_variables()\n",
    "sess.run(init)"
   ]
  },
  {
   "cell_type": "code",
   "execution_count": 161,
   "metadata": {
    "collapsed": false,
    "scrolled": false
   },
   "outputs": [
    {
     "name": "stdout",
     "output_type": "stream",
     "text": [
      "Feeddict = 0.779s (0.097s/image)\n",
      "Forward = 3.154s (0.394s/image)\n",
      "(5, 512)\n"
     ]
    }
   ],
   "source": [
    "train_gen = train_set.batch_gen(batch_size)\n",
    "for batch in train_gen:\n",
    "    break\n",
    "feeddict_time = time()\n",
    "boxes = np.zeros((batch_size,max_bb,4),dtype='int')\n",
    "images = []\n",
    "for batch_id,b in enumerate(batch):\n",
    "    p = image_paths[b[0]]\n",
    "    im = imread(p)\n",
    "    im_l = load_image(im)\n",
    "    images += [im_l]\n",
    "    b[1] = b[1][:max_bb]\n",
    "    box = np.pad(b[1], [(0,max_bb-len(b[1])),(0,0)], 'constant')\n",
    "    box[:,[0,2]] = box[:,[0,2]]*im_l.shape[1]/im.shape[1]\n",
    "    box[:,[1,3]] = box[:,[1,3]]*im_l.shape[0]/im.shape[0]\n",
    "    boxes[batch_id] = box\n",
    "images = np.stack(images)\n",
    "feeddict_time = time()-feeddict_time\n",
    "forward_time = time()\n",
    "feed_dict = {Pl['images']: images,Pl['boxes']:boxes}\n",
    "with tf.device('/gpu:0'):\n",
    "    A = sess.run(R, feed_dict=feed_dict)\n",
    "    \n",
    "forward_time = time() - forward_time\n",
    "print(\"Feeddict = %1.3fs (%1.3fs/image)\" % (feeddict_time, feeddict_time/batch_size))\n",
    "print(\"Forward = %1.3fs (%1.3fs/image)\" % (forward_time,forward_time/batch_size))\n",
    "print(A.shape)"
   ]
  },
  {
   "cell_type": "code",
   "execution_count": 149,
   "metadata": {
    "collapsed": false
   },
   "outputs": [
    {
     "name": "stdout",
     "output_type": "stream",
     "text": [
      "(40, 8, 28, 28) (8, 28, 28, 512)\n"
     ]
    },
    {
     "data": {
      "text/plain": [
       "(TensorShape([Dimension(None), Dimension(512)]),\n",
       " TensorShape([Dimension(8), Dimension(28), Dimension(28)]))"
      ]
     },
     "execution_count": 149,
     "metadata": {},
     "output_type": "execute_result"
    }
   ],
   "source": [
    "print(masks.get_shape(),out_tensor.get_shape())\n",
    "M = masks[2,:,:,:]\n",
    "R = tf.boolean_mask(out_tensor,M)\n",
    "R.get_shape(), M.get_shape()"
   ]
  },
  {
   "cell_type": "code",
   "execution_count": 139,
   "metadata": {
    "collapsed": false,
    "scrolled": false
   },
   "outputs": [
    {
     "data": {
      "image/png": "[encoded data removed]",
      "text/plain": [
       "<matplotlib.figure.Figure at 0x7f1e13dd3d68>"
      ]
     },
     "metadata": {},
     "output_type": "display_data"
    },
    {
     "data": {
      "image/png": "[encoded data removed]",
      "text/plain": [
       "<matplotlib.figure.Figure at 0x7f1da8729ba8>"
      ]
     },
     "metadata": {},
     "output_type": "display_data"
    },
    {
     "data": {
      "image/png": "[encoded data removed]",
      "text/plain": [
       "<matplotlib.figure.Figure at 0x7f1ddebfd8d0>"
      ]
     },
     "metadata": {},
     "output_type": "display_data"
    },
    {
     "data": {
      "image/png": "[encoded data removed]",
      "text/plain": [
       "<matplotlib.figure.Figure at 0x7f1de0861c50>"
      ]
     },
     "metadata": {},
     "output_type": "display_data"
    },
    {
     "data": {
      "image/png": "[encoded data removed]",
      "text/plain": [
       "<matplotlib.figure.Figure at 0x7f1de00c1550>"
      ]
     },
     "metadata": {},
     "output_type": "display_data"
    },
    {
     "data": {
      "image/png": "[encoded data removed]",
      "text/plain": [
       "<matplotlib.figure.Figure at 0x7f1e240c54a8>"
      ]
     },
     "metadata": {},
     "output_type": "display_data"
    },
    {
     "data": {
      "image/png": "[encoded data removed]",
      "text/plain": [
       "<matplotlib.figure.Figure at 0x7f1de0430400>"
      ]
     },
     "metadata": {},
     "output_type": "display_data"
    },
    {
     "data": {
      "image/png": "[encoded data removed]",
      "text/plain": [
       "<matplotlib.figure.Figure at 0x7f1e1775cf98>"
      ]
     },
     "metadata": {},
     "output_type": "display_data"
    }
   ],
   "source": [
    "for j in range(batch_size):\n",
    "    plt.figure(figsize=(15,15))\n",
    "    for i in range(max_bb):\n",
    "        plt.subplot(7,7,i+1)\n",
    "        plt.imshow(A[i,j,:,:])\n",
    "        plt.axis('off')\n",
    "    plt.show()"
   ]
  },
  {
   "cell_type": "markdown",
   "metadata": {},
   "source": [
    "8:\n",
    "Feeddict = 0.637s (0.080s/image)\n",
    "Forward = 0.494s (0.062s/image)\n",
    "16: \n",
    "Feeddict = 1.419s (0.089s/image)\n",
    "Forward = 1.135s (0.071s/image)\n",
    "20:\n",
    "Feeddict = 1.638s (0.082s/image)\n",
    "Forward = 1.854s (0.093s/image)"
   ]
  }
 ],
 "metadata": {
  "kernelspec": {
   "display_name": "Python 3",
   "language": "python",
   "name": "python3"
  },
  "language_info": {
   "codemirror_mode": {
    "name": "ipython",
    "version": 3
   },
   "file_extension": ".py",
   "mimetype": "text/x-python",
   "name": "python",
   "nbconvert_exporter": "python",
   "pygments_lexer": "ipython3",
   "version": "3.4.3"
  }
 },
 "nbformat": 4,
 "nbformat_minor": 0
}
