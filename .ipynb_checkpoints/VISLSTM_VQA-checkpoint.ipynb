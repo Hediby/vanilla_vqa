{
 "cells": [
  {
   "cell_type": "code",
   "execution_count": 1,
   "metadata": {
    "collapsed": false
   },
   "outputs": [],
   "source": [
    "from os import listdir,mkdir\n",
    "from os.path import join,exists\n",
    "from time import time\n",
    "import json\n",
    "import datetime\n",
    "\n",
    "\n",
    "import tensorflow as tf\n",
    "import numpy as np\n",
    "\n",
    "\n",
    "import skimage\n",
    "from skimage.transform import resize\n",
    "from scipy.misc import imread\n",
    "from PIL import Image\n",
    "\n",
    "from collections import Counter\n",
    "from time import time\n",
    "\n",
    "from utils import load_dataset, load_vocab, get_batch\n",
    "\n",
    "%matplotlib inline\n",
    "import matplotlib.pyplot as plt\n",
    "import matplotlib.patches as patches\n",
    "from sklearn.metrics.pairwise import euclidean_distances\n",
    "def load_image(p):\n",
    "    img = Image.open(p)\n",
    "    if img.mode is not 'RGB':\n",
    "        img = img.convert('RGB')\n",
    "    treated_img = img.resize((448,448))\n",
    "    treated_img = np.array(treated_img) / 255.0\n",
    "    assert (0 <= treated_img).all() and (treated_img <= 1.0).all()\n",
    "    return treated_img,img\n",
    "\n",
    "def intersect(r1,r2):\n",
    "    left = max(r1[0], r2[0])\n",
    "    top = max(r1[1], r2[1])\n",
    "    right = min(r1[0]+r1[2], r2[0]+r2[2])\n",
    "    bottom = min(r1[1]+r1[3], r2[1]+r2[3])\n",
    "    return left, top, max(0,right-left), max(0,bottom-top)\n",
    "\n",
    "def getIoU(candidates):\n",
    "    # Computes an IoU matrix from a list of rectangles\n",
    "    IoU = np.zeros((len(candidates), len(candidates)))\n",
    "    for i in range(len(candidates)):\n",
    "        r1 = candidates[i]\n",
    "        r1_area = r1[2]*r1[3]\n",
    "        for j in range(i+1,len(candidates)):\n",
    "            r2 = candidates[j]\n",
    "            r2_area = r2[2]*r2[3]\n",
    "            inter =  intersect(r1, r2)\n",
    "            inter = inter[2]*inter[3]\n",
    "            iou = inter / (r1_area+r2_area-inter)\n",
    "            IoU[i,j] = iou\n",
    "            IoU[j,i] = iou\n",
    "    return IoU\n",
    "\n",
    "def getDistances(candidates):\n",
    "    # Computes a distance matrix from a list of candidates\n",
    "    centers = [(c[0]+c[2]/2,c[1]+c[3]/2) for c in candidates]\n",
    "    return euclidean_distances(centers)"
   ]
  },
  {
   "cell_type": "code",
   "execution_count": 2,
   "metadata": {
    "collapsed": false
   },
   "outputs": [
    {
     "name": "stdout",
     "output_type": "stream",
     "text": [
      "train 82783\n",
      "val 40504\n"
     ]
    }
   ],
   "source": [
    "image_paths = {}\n",
    "root_path = \"/srv/data/datasets/mscoco/images/\"\n",
    "\n",
    "for split in 'train val'.split():\n",
    "    image_ids_path = \"datasets/vqa/\"+split+\"/img_ids.txt\"\n",
    "    image_ids = set([int(x.strip()) for x in open(image_ids_path).readlines()])\n",
    "    print(split,len(image_ids))\n",
    "    for x in image_ids:\n",
    "        name = 'COCO_'+split+'2014_'+format(x, '012')+'.jpg'\n",
    "        path = join(root_path,split+\"2014\",name)\n",
    "        image_paths[str(x)] = path"
   ]
  },
  {
   "cell_type": "code",
   "execution_count": 3,
   "metadata": {
    "collapsed": false
   },
   "outputs": [
    {
     "name": "stdout",
     "output_type": "stream",
     "text": [
      "Loading train set\n",
      "Parse questions file\n",
      "Parse answers file\n",
      "Parse MC file\n",
      "Parse BB file\n",
      "Construct data array\n",
      "Loading val set\n",
      "Parse questions file\n",
      "Parse answers file\n",
      "Parse MC file\n",
      "Parse BB file\n",
      "Construct data array\n"
     ]
    }
   ],
   "source": [
    "def load_dataset(idxs_path,mc=False):\n",
    "    dataset = []\n",
    "    for l in open(idxs_path, 'r',encoding='latin1'):\n",
    "        if mc:\n",
    "            l = [[int(i) for i in ans.strip().split()] for ans in l.strip().split('|')]\n",
    "        else:\n",
    "            l = [int(i) for i in l.strip().split()]\n",
    "        dataset.append(l)\n",
    "    return dataset\n",
    "\n",
    "class Dataset(object):\n",
    "    def __init__(self, i_path, q_path, mc_path, a_path, bb_path, n_max=np.Inf):\n",
    "        self.i_path = i_path\n",
    "        self.q_path = q_path\n",
    "        self.a_path = a_path\n",
    "        self.mc_path = mc_path\n",
    "        self.bb_path = bb_path\n",
    "        print('Parse questions file')\n",
    "        q_data = load_dataset(self.q_path)\n",
    "        self.max_q = len(max(q_data, key=lambda x:len(x)))\n",
    "        print('Parse answers file')\n",
    "        a_data = load_dataset(self.a_path)\n",
    "        print('Parse MC file')\n",
    "        mc_data = load_dataset(self.mc_path,mc=True)\n",
    "        self.max_mc = 0\n",
    "        for mc in mc_data:\n",
    "            for x in mc:\n",
    "                self.max_mc = max(self.max_mc,len(x))\n",
    "        print('Parse BB file')\n",
    "        self.bboxes = {}\n",
    "        for l in open(self.bb_path):\n",
    "            l = json.loads(l)\n",
    "            self.bboxes.update(l)\n",
    "        print(\"Construct data array\")\n",
    "        self.data = []\n",
    "        self.max_bb = -np.Inf\n",
    "        for i_id,q,mc,a in zip(open(i_path),q_data,mc_data,a_data):\n",
    "            i_id = i_id.strip()\n",
    "            if i_id not in self.bboxes:\n",
    "                continue\n",
    "            bb = self.bboxes[i_id]\n",
    "            self.max_bb = max(self.max_bb,len(bb))\n",
    "            datum = (i_id,bb,q,mc,a)\n",
    "            self.data.append(datum)\n",
    "        self.data = np.array(self.data, dtype=object)\n",
    "        del q_data,a_data\n",
    "        self.N = len(self.data)\n",
    "        self.indexes = np.arange(self.N)\n",
    "    \n",
    "    def __iter__(self):\n",
    "        return self\n",
    "    \n",
    "    def batch_gen(self,batch_size=64,shuffle=True):\n",
    "        if shuffle:\n",
    "            np.random.shuffle(self.indexes)\n",
    "        n_batches = self.N // batch_size\n",
    "        for batch_id in range(n_batches):\n",
    "            begin = batch_id*batch_size\n",
    "            end = min((batch_id+1)*batch_size, self.N)\n",
    "            B = self.data[self.indexes[begin:end]]\n",
    "            yield B\n",
    "\n",
    "\n",
    "print(\"Loading train set\")\n",
    "train_set = Dataset(\"datasets/vqa/train/img_ids.txt\",\n",
    "                   \"datasets/vqa/train/questions.idxs\", \n",
    "                   \"datasets/vqa/train/mcs.idxs\", \n",
    "                   \"datasets/vqa/train/answers.idxs\",\n",
    "                   \"datasets/vqa/train/bounding_boxes.json\")\n",
    "print(\"Loading val set\")\n",
    "val = Dataset(\"datasets/vqa/val/img_ids.txt\",\n",
    "                   \"datasets/vqa/val/questions.idxs\", \n",
    "                   \"datasets/vqa/val/mcs.idxs\", \n",
    "                   \"datasets/vqa/val/answers.idxs\",\n",
    "                   \"datasets/vqa/val/bounding_boxes.json\")\n",
    "max_bb = train_set.max_bb\n",
    "max_q = train_set.max_q\n",
    "max_mc = train_set.max_mc"
   ]
  },
  {
   "cell_type": "code",
   "execution_count": 4,
   "metadata": {
    "collapsed": false
   },
   "outputs": [],
   "source": [
    "q_i2w, q_w2i = load_vocab('datasets/vqa/train/questions.vocab')\n",
    "a_i2w, a_w2i = load_vocab('datasets/vqa/train/answers.vocab')\n",
    "Nq = len(q_i2w)\n",
    "Na = len(a_i2w)\n",
    "max_bb = 60"
   ]
  },
  {
   "cell_type": "code",
   "execution_count": 7,
   "metadata": {
    "collapsed": false
   },
   "outputs": [
    {
     "data": {
      "image/png": "[encoded data removed]",
      "text/plain": [
       "<matplotlib.figure.Figure at 0x7f5e36737278>"
      ]
     },
     "metadata": {},
     "output_type": "display_data"
    }
   ],
   "source": [
    "plt.figure()\n",
    "plt.hist([len(v) for v in train_set.bboxes.values()],bins='auto')\n",
    "plt.show()"
   ]
  },
  {
   "cell_type": "code",
   "execution_count": 6,
   "metadata": {
    "collapsed": false,
    "scrolled": true
   },
   "outputs": [],
   "source": [
    "def indexes_tensor(axis,batch_size):\n",
    "    indexes = tf.expand_dims(tf.range(0,28,1),axis)\n",
    "    mat_multiples = [28]\n",
    "    mat_multiples.insert(1-axis,1)\n",
    "    matrix = tf.tile(indexes, mat_multiples)\n",
    "    tensor = tf.tile(tf.expand_dims(matrix,0),[batch_size,1,1])\n",
    "    return tensor"
   ]
  },
  {
   "cell_type": "code",
   "execution_count": 17,
   "metadata": {
    "collapsed": false
   },
   "outputs": [],
   "source": [
    "batch_size = 16\n",
    "di = 200\n",
    "dq = 200\n",
    "dh = 200\n",
    "datt = 200\n",
    "tf.reset_default_graph()\n",
    "\n",
    "with open(\"tensorflow-vgg16/vgg16.tfmodel\", mode='rb') as f:\n",
    "    fileContent = f.read()\n",
    "\n",
    "Pl = {}\n",
    "    ## Variables\n",
    "        # VGG16\n",
    "graph_def = tf.GraphDef()\n",
    "graph_def.ParseFromString(fileContent)\n",
    "        # Image transformationt\n",
    "with tf.variable_scope('image'):\n",
    "    tf.get_variable('W', shape=[512, di],\n",
    "                    initializer=tf.contrib.layers.xavier_initializer())\n",
    "    tf.get_variable(name='b',\n",
    "                    initializer=tf.zeros([di]))\n",
    "with tf.variable_scope('attention'):\n",
    "    tf.get_variable('Wimg',shape=[di,datt],\n",
    "                    initializer=tf.contrib.layers.xavier_initializer())\n",
    "    tf.get_variable('Wstate',shape=[dh,datt],\n",
    "                    initializer=tf.contrib.layers.xavier_initializer())\n",
    "\n",
    "        # Question embedding\n",
    "with tf.variable_scope('question'):\n",
    "    tf.get_variable('W',\n",
    "                    initializer=tf.random_uniform([Nq, dq], -0.1, 0.1))\n",
    "with tf.variable_scope('multiple_choice'):\n",
    "    tf.get_variable('W',\n",
    "                    initializer=tf.random_uniform([Na, dh], -0.1, 0.1))\n",
    "    \n",
    "        # RNN\n",
    "# rnn = tf.nn.rnn_cell.BasicRNNCell(dh)\n",
    "rnn = tf.nn.rnn_cell.GRUCell(dh)\n",
    "## Placeholders\n",
    "Pl['images'] = tf.placeholder(\"float\", \n",
    "                              [batch_size, 448, 448, 3],\n",
    "                              name=\"images\") #batch x width x height x channels\n",
    "Pl['boxes'] = tf.placeholder(\"int32\",\n",
    "                             [batch_size,max_bb,4],\n",
    "                             name=\"boxes\") #batch x boxes x coords\n",
    "Pl['boxes_mask'] = tf.placeholder('float32', \n",
    "                                  [batch_size,max_bb],\n",
    "                                  name=\"boxes_mask\")\n",
    "Pl['questions'] = tf.placeholder(tf.int32, \n",
    "                                 [batch_size, max_q],\n",
    "                                 name=\"question\")\n",
    "Pl['question_mask'] = tf.placeholder(tf.int32,\n",
    "                                     [max_q, None],\n",
    "                                     name=\"question_mask\")\n",
    "Pl['mc'] = tf.placeholder(tf.int32,\n",
    "                          [batch_size, 18,None], \n",
    "                          name=\"mc\")\n",
    "Pl['answers'] = tf.placeholder(tf.float32, \n",
    "                               [batch_size,18], \n",
    "                               name=\"answers\")\n",
    "\n",
    "def compute_attention(V,state):\n",
    "    with tf.variable_scope('attention',reuse=True):\n",
    "        Wimg = tf.get_variable('Wimg')\n",
    "        Wstate = tf.get_variable('Wstate')\n",
    "        Vatt = tf.transpose(tf.tanh(tf.reshape(tf.matmul(tf.reshape(V, \n",
    "                                                       (batch_size*max_bb,di)),\n",
    "                                             Wimg),\n",
    "                                   (max_bb,batch_size,datt))),(1,0,2))\n",
    "        Vatt = tf.nn.l2_normalize(Vatt,-1)\n",
    "        Hatt = tf.expand_dims(tf.matmul(state,Wstate),1)\n",
    "        Hatt = tf.nn.l2_normalize(Hatt,-1)\n",
    "        att = tf.batch_matmul(Vatt,Hatt,adj_y=True)\n",
    "        patt0 = tf.nn.softmax(att[:,:,0])\n",
    "        with tf.device('/cpu:0'):\n",
    "            patt1 = tf.mul(patt0,Pl['boxes_mask'])\n",
    "        patt = patt1 / tf.expand_dims(tf.reduce_sum(patt1,reduction_indices=1),1)\n",
    "        Vpond = tf.mul(V,tf.expand_dims(tf.transpose(patt),-1))\n",
    "        Vt = tf.reduce_sum(Vpond,reduction_indices=0)\n",
    "        return Vt,patt0,patt1,patt\n",
    "\n",
    "tf.import_graph_def(graph_def, input_map={\"images\": Pl['images']})\n",
    "\n",
    "graph = tf.get_default_graph()\n",
    "out_tensor = graph.get_tensor_by_name(\"import/conv5_3/Relu:0\")\n",
    "boxes_o = tf.cast(Pl['boxes']/16,tf.int32)\n",
    "\n",
    "Rs = []\n",
    "X,Y = indexes_tensor(0,batch_size),indexes_tensor(1,batch_size)\n",
    "for j in range(max_bb):\n",
    "    bxs = boxes_o[:,j,:]\n",
    "    bxs_expanded = tf.expand_dims(tf.expand_dims(bxs,-1),\n",
    "                                  -1)\n",
    "    maskX = tf.logical_and(tf.greater_equal(X,bxs_expanded[:,0,:,:]), \n",
    "                           tf.less_equal(X,bxs_expanded[:,0,:,:]+bxs_expanded[:,2,:,:]))\n",
    "    maskY = tf.logical_and(tf.greater_equal(Y,bxs_expanded[:,1,:,:]),\n",
    "                           tf.less_equal(Y,bxs_expanded[:,1,:,:]+bxs_expanded[:,3,:,:]))\n",
    "    mask = tf.cast(tf.logical_and(maskX,maskY), tf.float32)\n",
    "    mask_expanded = tf.expand_dims(mask,-1)\n",
    "    R = tf.mul(out_tensor,mask_expanded)\n",
    "    Rs.append(tf.reduce_max(R,reduction_indices=(1,2)))\n",
    "    # Must be batch_size x 512\n",
    "Rs = tf.pack(Rs)\n",
    "with tf.variable_scope('image',reuse=True):\n",
    "    W = tf.get_variable('W')\n",
    "    b = tf.get_variable('b')\n",
    "    V = tf.tanh(tf.reshape(tf.matmul(tf.reshape(Rs, \n",
    "                                                (batch_size*max_bb,512)),\n",
    "                                     W) + b,\n",
    "                           (max_bb,batch_size,di)))\n",
    "state = rnn.zero_state(batch_size, tf.float32)\n",
    "states = []\n",
    "q_out = []\n",
    "with tf.variable_scope('question',reuse=True):\n",
    "    W = tf.get_variable('W')\n",
    "for j in range(max_q):\n",
    "    question_emb = tf.nn.embedding_lookup(W, Pl['questions'][:,j])\n",
    "    if j>0:\n",
    "        tf.get_variable_scope().reuse_variables()\n",
    "    Vt,_,_,_ = compute_attention(V,state)\n",
    "    output,state = rnn(tf.concat(1,[question_emb,Vt]), state)\n",
    "    states.append(state)\n",
    "    q_out.append(output)\n",
    "q_out = tf.pack(q_out)\n",
    "q_out = tf.reduce_sum(tf.mul(q_out, \n",
    "                             tf.to_float(tf.expand_dims(Pl['question_mask'],-1))),0)\n",
    "q_out = tf.nn.l2_normalize(q_out,-1)\n",
    "\n",
    "mc_mask = tf.to_float(tf.not_equal(Pl['mc'],a_w2i['</s>']))\n",
    "norm_mask = tf.expand_dims(tf.reduce_sum(mc_mask,reduction_indices=2),-1)\n",
    "with tf.variable_scope('multiple_choice'):\n",
    "    W = tf.get_variable('W')\n",
    "    mc_emb = tf.nn.embedding_lookup(W, Pl['mc'])\n",
    "    masked_mc_out = tf.mul(tf.expand_dims(mc_mask,-1),mc_emb)\n",
    "    mc_out = tf.reduce_sum(masked_mc_out,reduction_indices=2)/norm_mask\n",
    "    mc_out = tf.nn.l2_normalize(mc_out,-1)\n",
    "        \n",
    "out_scores = tf.batch_matmul(mc_out,tf.expand_dims(q_out,1),adj_y=True)[:,:,0]\n",
    "out_probas = tf.nn.softmax(out_scores)\n",
    "\n",
    "normalized_ans = Pl['answers'] / tf.expand_dims(tf.reduce_sum(Pl['answers'],reduction_indices=1),-1)\n",
    "cross_entropy = normalized_ans*tf.log(out_probas) + (1.-normalized_ans)*tf.log(1.-out_probas)\n",
    "cost = -tf.reduce_sum(cross_entropy)/batch_size\n",
    "\n",
    "optimizer = tf.train.AdamOptimizer()\n",
    "# optimizer = tf.train.GradientDescentOptimizer(0.01)\n",
    "gvs = optimizer.compute_gradients(cost)\n",
    "# with tf.device('/cpu:0'):\n",
    "cost_s = tf.scalar_summary('train loss', cost, name='train_loss')\n",
    "capped_gvs = [(tf.clip_by_value(grad, -1., 1.), var) for grad,var in gvs]\n",
    "train_op = optimizer.apply_gradients(capped_gvs)\n",
    "    "
   ]
  },
  {
   "cell_type": "code",
   "execution_count": 18,
   "metadata": {
    "collapsed": false,
    "scrolled": false
   },
   "outputs": [
    {
     "ename": "KeyboardInterrupt",
     "evalue": "",
     "output_type": "error",
     "traceback": [
      "\u001b[1;31m---------------------------------------------------------------------------\u001b[0m",
      "\u001b[1;31mKeyboardInterrupt\u001b[0m                         Traceback (most recent call last)",
      "\u001b[1;32m<ipython-input-18-5a53bea0ea12>\u001b[0m in \u001b[0;36m<module>\u001b[1;34m()\u001b[0m\n\u001b[0;32m     12\u001b[0m \u001b[0mwriter\u001b[0m \u001b[1;33m=\u001b[0m \u001b[0mtf\u001b[0m\u001b[1;33m.\u001b[0m\u001b[0mtrain\u001b[0m\u001b[1;33m.\u001b[0m\u001b[0mSummaryWriter\u001b[0m\u001b[1;33m(\u001b[0m\u001b[0mjoin\u001b[0m\u001b[1;33m(\u001b[0m\u001b[0mmodel_path\u001b[0m\u001b[1;33m,\u001b[0m\u001b[1;34m'tf_log'\u001b[0m\u001b[1;33m)\u001b[0m\u001b[1;33m,\u001b[0m \u001b[0msess\u001b[0m\u001b[1;33m.\u001b[0m\u001b[0mgraph\u001b[0m\u001b[1;33m)\u001b[0m\u001b[1;33m\u001b[0m\u001b[0m\n\u001b[0;32m     13\u001b[0m \u001b[0minit\u001b[0m \u001b[1;33m=\u001b[0m \u001b[0mtf\u001b[0m\u001b[1;33m.\u001b[0m\u001b[0minitialize_all_variables\u001b[0m\u001b[1;33m(\u001b[0m\u001b[1;33m)\u001b[0m\u001b[1;33m\u001b[0m\u001b[0m\n\u001b[1;32m---> 14\u001b[1;33m \u001b[0msess\u001b[0m\u001b[1;33m.\u001b[0m\u001b[0mrun\u001b[0m\u001b[1;33m(\u001b[0m\u001b[0minit\u001b[0m\u001b[1;33m)\u001b[0m\u001b[1;33m\u001b[0m\u001b[0m\n\u001b[0m",
      "\u001b[1;32m/usr/local/lib/python3.4/dist-packages/tensorflow/python/client/session.py\u001b[0m in \u001b[0;36mrun\u001b[1;34m(self, fetches, feed_dict, options, run_metadata)\u001b[0m\n\u001b[0;32m    370\u001b[0m     \u001b[1;32mtry\u001b[0m\u001b[1;33m:\u001b[0m\u001b[1;33m\u001b[0m\u001b[0m\n\u001b[0;32m    371\u001b[0m       result = self._run(None, fetches, feed_dict, options_ptr,\n\u001b[1;32m--> 372\u001b[1;33m                          run_metadata_ptr)\n\u001b[0m\u001b[0;32m    373\u001b[0m       \u001b[1;32mif\u001b[0m \u001b[0mrun_metadata\u001b[0m\u001b[1;33m:\u001b[0m\u001b[1;33m\u001b[0m\u001b[0m\n\u001b[0;32m    374\u001b[0m         \u001b[0mproto_data\u001b[0m \u001b[1;33m=\u001b[0m \u001b[0mtf_session\u001b[0m\u001b[1;33m.\u001b[0m\u001b[0mTF_GetBuffer\u001b[0m\u001b[1;33m(\u001b[0m\u001b[0mrun_metadata_ptr\u001b[0m\u001b[1;33m)\u001b[0m\u001b[1;33m\u001b[0m\u001b[0m\n",
      "\u001b[1;32m/usr/local/lib/python3.4/dist-packages/tensorflow/python/client/session.py\u001b[0m in \u001b[0;36m_run\u001b[1;34m(self, handle, fetches, feed_dict, options, run_metadata)\u001b[0m\n\u001b[0;32m    634\u001b[0m     \u001b[1;32mtry\u001b[0m\u001b[1;33m:\u001b[0m\u001b[1;33m\u001b[0m\u001b[0m\n\u001b[0;32m    635\u001b[0m       results = self._do_run(handle, target_list, unique_fetches,\n\u001b[1;32m--> 636\u001b[1;33m                              feed_dict_string, options, run_metadata)\n\u001b[0m\u001b[0;32m    637\u001b[0m     \u001b[1;32mfinally\u001b[0m\u001b[1;33m:\u001b[0m\u001b[1;33m\u001b[0m\u001b[0m\n\u001b[0;32m    638\u001b[0m       \u001b[1;31m# The movers are no longer used. Delete them.\u001b[0m\u001b[1;33m\u001b[0m\u001b[1;33m\u001b[0m\u001b[0m\n",
      "\u001b[1;32m/usr/local/lib/python3.4/dist-packages/tensorflow/python/client/session.py\u001b[0m in \u001b[0;36m_do_run\u001b[1;34m(self, handle, target_list, fetch_list, feed_dict, options, run_metadata)\u001b[0m\n\u001b[0;32m    706\u001b[0m     \u001b[1;32mif\u001b[0m \u001b[0mhandle\u001b[0m \u001b[1;32mis\u001b[0m \u001b[1;32mNone\u001b[0m\u001b[1;33m:\u001b[0m\u001b[1;33m\u001b[0m\u001b[0m\n\u001b[0;32m    707\u001b[0m       return self._do_call(_run_fn, self._session, feed_dict, fetch_list,\n\u001b[1;32m--> 708\u001b[1;33m                            target_list, options, run_metadata)\n\u001b[0m\u001b[0;32m    709\u001b[0m     \u001b[1;32melse\u001b[0m\u001b[1;33m:\u001b[0m\u001b[1;33m\u001b[0m\u001b[0m\n\u001b[0;32m    710\u001b[0m       return self._do_call(_prun_fn, self._session, handle, feed_dict,\n",
      "\u001b[1;32m/usr/local/lib/python3.4/dist-packages/tensorflow/python/client/session.py\u001b[0m in \u001b[0;36m_do_call\u001b[1;34m(self, fn, *args)\u001b[0m\n\u001b[0;32m    713\u001b[0m   \u001b[1;32mdef\u001b[0m \u001b[0m_do_call\u001b[0m\u001b[1;33m(\u001b[0m\u001b[0mself\u001b[0m\u001b[1;33m,\u001b[0m \u001b[0mfn\u001b[0m\u001b[1;33m,\u001b[0m \u001b[1;33m*\u001b[0m\u001b[0margs\u001b[0m\u001b[1;33m)\u001b[0m\u001b[1;33m:\u001b[0m\u001b[1;33m\u001b[0m\u001b[0m\n\u001b[0;32m    714\u001b[0m     \u001b[1;32mtry\u001b[0m\u001b[1;33m:\u001b[0m\u001b[1;33m\u001b[0m\u001b[0m\n\u001b[1;32m--> 715\u001b[1;33m       \u001b[1;32mreturn\u001b[0m \u001b[0mfn\u001b[0m\u001b[1;33m(\u001b[0m\u001b[1;33m*\u001b[0m\u001b[0margs\u001b[0m\u001b[1;33m)\u001b[0m\u001b[1;33m\u001b[0m\u001b[0m\n\u001b[0m\u001b[0;32m    716\u001b[0m     \u001b[1;32mexcept\u001b[0m \u001b[0merrors\u001b[0m\u001b[1;33m.\u001b[0m\u001b[0mOpError\u001b[0m \u001b[1;32mas\u001b[0m \u001b[0me\u001b[0m\u001b[1;33m:\u001b[0m\u001b[1;33m\u001b[0m\u001b[0m\n\u001b[0;32m    717\u001b[0m       \u001b[0mmessage\u001b[0m \u001b[1;33m=\u001b[0m \u001b[0mcompat\u001b[0m\u001b[1;33m.\u001b[0m\u001b[0mas_text\u001b[0m\u001b[1;33m(\u001b[0m\u001b[0me\u001b[0m\u001b[1;33m.\u001b[0m\u001b[0mmessage\u001b[0m\u001b[1;33m)\u001b[0m\u001b[1;33m\u001b[0m\u001b[0m\n",
      "\u001b[1;32m/usr/local/lib/python3.4/dist-packages/tensorflow/python/client/session.py\u001b[0m in \u001b[0;36m_run_fn\u001b[1;34m(session, feed_dict, fetch_list, target_list, options, run_metadata)\u001b[0m\n\u001b[0;32m    695\u001b[0m         return tf_session.TF_Run(session, options,\n\u001b[0;32m    696\u001b[0m                                  \u001b[0mfeed_dict\u001b[0m\u001b[1;33m,\u001b[0m \u001b[0mfetch_list\u001b[0m\u001b[1;33m,\u001b[0m \u001b[0mtarget_list\u001b[0m\u001b[1;33m,\u001b[0m\u001b[1;33m\u001b[0m\u001b[0m\n\u001b[1;32m--> 697\u001b[1;33m                                  status, run_metadata)\n\u001b[0m\u001b[0;32m    698\u001b[0m \u001b[1;33m\u001b[0m\u001b[0m\n\u001b[0;32m    699\u001b[0m     \u001b[1;32mdef\u001b[0m \u001b[0m_prun_fn\u001b[0m\u001b[1;33m(\u001b[0m\u001b[0msession\u001b[0m\u001b[1;33m,\u001b[0m \u001b[0mhandle\u001b[0m\u001b[1;33m,\u001b[0m \u001b[0mfeed_dict\u001b[0m\u001b[1;33m,\u001b[0m \u001b[0mfetch_list\u001b[0m\u001b[1;33m)\u001b[0m\u001b[1;33m:\u001b[0m\u001b[1;33m\u001b[0m\u001b[0m\n",
      "\u001b[1;31mKeyboardInterrupt\u001b[0m: "
     ]
    }
   ],
   "source": [
    "model_name = \"model1\"\n",
    "model_rootpath = \"/home/hbenyounes/vqa/results/vqa/\"\n",
    "model_path = join(model_rootpath,model_name)\n",
    "if not exists(model_path):\n",
    "    mkdir(model_path)\n",
    "\n",
    "gpu_options = tf.GPUOptions(per_process_gpu_memory_fraction=0.6)\n",
    "\n",
    "sess = tf.Session(config=tf.ConfigProto(log_device_placement=True,\n",
    "                                        gpu_options=gpu_options))\n",
    "\n",
    "writer = tf.train.SummaryWriter(join(model_path,'tf_log'), sess.graph)\n",
    "init = tf.initialize_all_variables()\n",
    "sess.run(init)"
   ]
  },
  {
   "cell_type": "code",
   "execution_count": 9,
   "metadata": {
    "collapsed": true
   },
   "outputs": [],
   "source": [
    "def create_feeddict(batch):\n",
    "    boxes = np.zeros((batch_size,max_bb,4),dtype='int')\n",
    "    boxes_mask = np.zeros((batch_size,max_bb), dtype=\"float\")\n",
    "    question_mask = np.zeros((max_q,batch_size),dtype=\"float\")\n",
    "    questions = np.zeros((batch_size,max_q), dtype='int')\n",
    "    answers = np.zeros((batch_size,18),dtype=\"float\")\n",
    "    # multiple_choice = np.zeros((batch_size,18,max_mc),dtype='int')\n",
    "    multiple_choice = []\n",
    "    images = np.zeros((batch_size,448,448,3))\n",
    "    mc_len = 0\n",
    "    img_time = 0\n",
    "    bb_time = 0\n",
    "    question_time = 0\n",
    "    answer_time = 0\n",
    "    for batch_id,(i_id,bb,q,mc,a) in enumerate(batch):\n",
    "        # b = (i_id,bb,q,mc,a)\n",
    "        p = image_paths[i_id]\n",
    "        tic = time()\n",
    "        im_l,im = load_image(p)\n",
    "        img_time += time() - tic\n",
    "        images[batch_id] = im_l\n",
    "        tic = time()\n",
    "        bb = bb[:max_bb]\n",
    "        box = np.pad(bb, [(0,max_bb-len(bb)),\n",
    "                            (0,0)], \n",
    "                     'constant')\n",
    "        boxes_mask[batch_id,:len(bb)] = 1\n",
    "        box[:,[0,2]] = box[:,[0,2]]*im_l.shape[1]/im.size[1]\n",
    "        box[:,[1,3]] = box[:,[1,3]]*im_l.shape[0]/im.size[0]\n",
    "        boxes[batch_id] = box\n",
    "        bb_time += time() - tic\n",
    "        tic = time()\n",
    "        questions[batch_id] = np.pad(q,(0,max_q-len(q)),'constant')\n",
    "        question_mask[len(q),batch_id] = 1\n",
    "        question_time += time()-tic\n",
    "    #     multiple_choice[batch_id] = np.array([np.pad(m,(0,max_mc-len(m)),'constant') for m in mc])\n",
    "        multiple_choice.append(mc)\n",
    "        tic = time()\n",
    "        for i,x in enumerate(mc):\n",
    "            answers[batch_id,i] = 1*(a==x)\n",
    "        mc_len = max(mc_len,len(max([x for x in mc], key=len)))\n",
    "        answer_time += time() - tic\n",
    "    tic = time()\n",
    "    multiple_choice = np.array([[np.pad(m,(0,mc_len+1-len(m)),\n",
    "                                        'constant',\n",
    "                                        constant_values=a_w2i['</s>']) for m in mc] for mc in multiple_choice])\n",
    "    mc_time = time() - tic\n",
    "#     print(img_time,bb_time,question_time,answer_time,mc_time)\n",
    "    feed_dict = {Pl['images']: images,\n",
    "                 Pl['boxes']:boxes, \n",
    "                 Pl['boxes_mask']:boxes_mask,\n",
    "                 Pl['question_mask']:question_mask,\n",
    "                 Pl['questions']:questions,\n",
    "                 Pl['mc']:multiple_choice, \n",
    "                 Pl['answers']:answers}\n",
    "    return feed_dict"
   ]
  },
  {
   "cell_type": "code",
   "execution_count": 15,
   "metadata": {
    "collapsed": false
   },
   "outputs": [
    {
     "name": "stdout",
     "output_type": "stream",
     "text": [
      "\tTest: 0/121512\n"
     ]
    },
    {
     "data": {
      "text/plain": [
       "0.1875"
      ]
     },
     "execution_count": 15,
     "metadata": {},
     "output_type": "execute_result"
    }
   ],
   "source": [
    "def test():\n",
    "    accuracy = []\n",
    "    val_gen = val.batch_gen(batch_size)\n",
    "    for idx,batch in enumerate(val_gen):\n",
    "        if not idx%100:\n",
    "            print(\"\\tTest: %d/%d\" % (idx,val.N))\n",
    "        feed_dict = create_feeddict(batch)\n",
    "        y_pred = sess.run(out_probas,feed_dict=feed_dict).argmax(axis=1)\n",
    "        accuracy.append(feed_dict[Pl['answers']][np.arange(batch_size),y_pred])\n",
    "    return np.mean(accuracy)"
   ]
  },
  {
   "cell_type": "code",
   "execution_count": 16,
   "metadata": {
    "collapsed": false,
    "scrolled": false
   },
   "outputs": [
    {
     "name": "stdout",
     "output_type": "stream",
     "text": [
      "Epoch 1/100 - batch 0/15522 - loss = 3.580 - step time = 0.9s - ETA = 3:40:09\n",
      "test\n",
      "\tTest: 0/121512\n",
      "Epoch 2/100 - batch 0/15522 - loss = 3.500 - step time = 0.8s - ETA = 7:19:08\n",
      "test\n",
      "\tTest: 0/121512\n",
      "Epoch 3/100 - batch 0/15522 - loss = 3.440 - step time = 0.8s - ETA = 10:52:54\n",
      "test\n",
      "\tTest: 0/121512\n",
      "Epoch 4/100 - batch 0/15522 - loss = 3.392 - step time = 1.2s - ETA = 15:53:54\n",
      "test\n",
      "\tTest: 0/121512\n",
      "Epoch 5/100 - batch 0/15522 - loss = 3.352 - step time = 1.0s - ETA = 20:10:49\n",
      "test\n",
      "\tTest: 0/121512\n",
      "Epoch 6/100 - batch 0/15522 - loss = 3.318 - step time = 0.8s - ETA = 23:45:13\n",
      "test\n",
      "\tTest: 0/121512\n"
     ]
    },
    {
     "ename": "KeyboardInterrupt",
     "evalue": "",
     "output_type": "error",
     "traceback": [
      "\u001b[1;31m---------------------------------------------------------------------------\u001b[0m",
      "\u001b[1;31mKeyboardInterrupt\u001b[0m                         Traceback (most recent call last)",
      "\u001b[1;32m<ipython-input-16-3c9e80321c48>\u001b[0m in \u001b[0;36m<module>\u001b[1;34m()\u001b[0m\n\u001b[0;32m     28\u001b[0m             \u001b[1;32mbreak\u001b[0m\u001b[1;33m\u001b[0m\u001b[0m\n\u001b[0;32m     29\u001b[0m     \u001b[0mprint\u001b[0m\u001b[1;33m(\u001b[0m\u001b[1;34m\"test\"\u001b[0m\u001b[1;33m)\u001b[0m\u001b[1;33m\u001b[0m\u001b[0m\n\u001b[1;32m---> 30\u001b[1;33m     \u001b[0mtest_acc\u001b[0m \u001b[1;33m=\u001b[0m \u001b[0mtest\u001b[0m\u001b[1;33m(\u001b[0m\u001b[1;33m)\u001b[0m\u001b[1;33m\u001b[0m\u001b[0m\n\u001b[0m\u001b[0;32m     31\u001b[0m     \u001b[0mtrain_loss\u001b[0m \u001b[1;33m=\u001b[0m \u001b[0mnp\u001b[0m\u001b[1;33m.\u001b[0m\u001b[0mmean\u001b[0m\u001b[1;33m(\u001b[0m\u001b[0mepoch_loss\u001b[0m\u001b[1;33m)\u001b[0m\u001b[1;33m\u001b[0m\u001b[0m\n\u001b[0;32m     32\u001b[0m     \u001b[0moutput_file\u001b[0m\u001b[1;33m.\u001b[0m\u001b[0mwrite\u001b[0m\u001b[1;33m(\u001b[0m\u001b[1;34m\"Epoch %d - train loss = %1.3f - test accuracy = %1.3f\\n\"\u001b[0m \u001b[1;33m%\u001b[0m \u001b[1;33m(\u001b[0m\u001b[0mepoch\u001b[0m\u001b[1;33m,\u001b[0m\u001b[0mtrain_loss\u001b[0m\u001b[1;33m,\u001b[0m\u001b[0mtest_acc\u001b[0m\u001b[1;33m)\u001b[0m\u001b[1;33m)\u001b[0m\u001b[1;33m\u001b[0m\u001b[0m\n",
      "\u001b[1;32m<ipython-input-15-ca3c76d7a176>\u001b[0m in \u001b[0;36mtest\u001b[1;34m()\u001b[0m\n\u001b[0;32m      6\u001b[0m             \u001b[0mprint\u001b[0m\u001b[1;33m(\u001b[0m\u001b[1;34m\"\\tTest: %d/%d\"\u001b[0m \u001b[1;33m%\u001b[0m \u001b[1;33m(\u001b[0m\u001b[0midx\u001b[0m\u001b[1;33m,\u001b[0m\u001b[0mval\u001b[0m\u001b[1;33m.\u001b[0m\u001b[0mN\u001b[0m\u001b[1;33m)\u001b[0m\u001b[1;33m)\u001b[0m\u001b[1;33m\u001b[0m\u001b[0m\n\u001b[0;32m      7\u001b[0m         \u001b[0mfeed_dict\u001b[0m \u001b[1;33m=\u001b[0m \u001b[0mcreate_feeddict\u001b[0m\u001b[1;33m(\u001b[0m\u001b[0mbatch\u001b[0m\u001b[1;33m)\u001b[0m\u001b[1;33m\u001b[0m\u001b[0m\n\u001b[1;32m----> 8\u001b[1;33m         \u001b[0my_pred\u001b[0m \u001b[1;33m=\u001b[0m \u001b[0msess\u001b[0m\u001b[1;33m.\u001b[0m\u001b[0mrun\u001b[0m\u001b[1;33m(\u001b[0m\u001b[0mout_probas\u001b[0m\u001b[1;33m,\u001b[0m\u001b[0mfeed_dict\u001b[0m\u001b[1;33m=\u001b[0m\u001b[0mfeed_dict\u001b[0m\u001b[1;33m)\u001b[0m\u001b[1;33m.\u001b[0m\u001b[0margmax\u001b[0m\u001b[1;33m(\u001b[0m\u001b[0maxis\u001b[0m\u001b[1;33m=\u001b[0m\u001b[1;36m1\u001b[0m\u001b[1;33m)\u001b[0m\u001b[1;33m\u001b[0m\u001b[0m\n\u001b[0m\u001b[0;32m      9\u001b[0m         \u001b[0maccuracy\u001b[0m\u001b[1;33m.\u001b[0m\u001b[0mappend\u001b[0m\u001b[1;33m(\u001b[0m\u001b[0mfeed_dict\u001b[0m\u001b[1;33m[\u001b[0m\u001b[0mPl\u001b[0m\u001b[1;33m[\u001b[0m\u001b[1;34m'answers'\u001b[0m\u001b[1;33m]\u001b[0m\u001b[1;33m]\u001b[0m\u001b[1;33m[\u001b[0m\u001b[0mnp\u001b[0m\u001b[1;33m.\u001b[0m\u001b[0marange\u001b[0m\u001b[1;33m(\u001b[0m\u001b[0mbatch_size\u001b[0m\u001b[1;33m)\u001b[0m\u001b[1;33m,\u001b[0m\u001b[0my_pred\u001b[0m\u001b[1;33m]\u001b[0m\u001b[1;33m)\u001b[0m\u001b[1;33m\u001b[0m\u001b[0m\n\u001b[0;32m     10\u001b[0m         \u001b[1;32mif\u001b[0m \u001b[0midx\u001b[0m\u001b[1;33m>=\u001b[0m\u001b[1;36m5\u001b[0m\u001b[1;33m:\u001b[0m\u001b[1;33m\u001b[0m\u001b[0m\n",
      "\u001b[1;32m/usr/local/lib/python3.4/dist-packages/tensorflow/python/client/session.py\u001b[0m in \u001b[0;36mrun\u001b[1;34m(self, fetches, feed_dict, options, run_metadata)\u001b[0m\n\u001b[0;32m    370\u001b[0m     \u001b[1;32mtry\u001b[0m\u001b[1;33m:\u001b[0m\u001b[1;33m\u001b[0m\u001b[0m\n\u001b[0;32m    371\u001b[0m       result = self._run(None, fetches, feed_dict, options_ptr,\n\u001b[1;32m--> 372\u001b[1;33m                          run_metadata_ptr)\n\u001b[0m\u001b[0;32m    373\u001b[0m       \u001b[1;32mif\u001b[0m \u001b[0mrun_metadata\u001b[0m\u001b[1;33m:\u001b[0m\u001b[1;33m\u001b[0m\u001b[0m\n\u001b[0;32m    374\u001b[0m         \u001b[0mproto_data\u001b[0m \u001b[1;33m=\u001b[0m \u001b[0mtf_session\u001b[0m\u001b[1;33m.\u001b[0m\u001b[0mTF_GetBuffer\u001b[0m\u001b[1;33m(\u001b[0m\u001b[0mrun_metadata_ptr\u001b[0m\u001b[1;33m)\u001b[0m\u001b[1;33m\u001b[0m\u001b[0m\n",
      "\u001b[1;32m/usr/local/lib/python3.4/dist-packages/tensorflow/python/client/session.py\u001b[0m in \u001b[0;36m_run\u001b[1;34m(self, handle, fetches, feed_dict, options, run_metadata)\u001b[0m\n\u001b[0;32m    634\u001b[0m     \u001b[1;32mtry\u001b[0m\u001b[1;33m:\u001b[0m\u001b[1;33m\u001b[0m\u001b[0m\n\u001b[0;32m    635\u001b[0m       results = self._do_run(handle, target_list, unique_fetches,\n\u001b[1;32m--> 636\u001b[1;33m                              feed_dict_string, options, run_metadata)\n\u001b[0m\u001b[0;32m    637\u001b[0m     \u001b[1;32mfinally\u001b[0m\u001b[1;33m:\u001b[0m\u001b[1;33m\u001b[0m\u001b[0m\n\u001b[0;32m    638\u001b[0m       \u001b[1;31m# The movers are no longer used. Delete them.\u001b[0m\u001b[1;33m\u001b[0m\u001b[1;33m\u001b[0m\u001b[0m\n",
      "\u001b[1;32m/usr/local/lib/python3.4/dist-packages/tensorflow/python/client/session.py\u001b[0m in \u001b[0;36m_do_run\u001b[1;34m(self, handle, target_list, fetch_list, feed_dict, options, run_metadata)\u001b[0m\n\u001b[0;32m    706\u001b[0m     \u001b[1;32mif\u001b[0m \u001b[0mhandle\u001b[0m \u001b[1;32mis\u001b[0m \u001b[1;32mNone\u001b[0m\u001b[1;33m:\u001b[0m\u001b[1;33m\u001b[0m\u001b[0m\n\u001b[0;32m    707\u001b[0m       return self._do_call(_run_fn, self._session, feed_dict, fetch_list,\n\u001b[1;32m--> 708\u001b[1;33m                            target_list, options, run_metadata)\n\u001b[0m\u001b[0;32m    709\u001b[0m     \u001b[1;32melse\u001b[0m\u001b[1;33m:\u001b[0m\u001b[1;33m\u001b[0m\u001b[0m\n\u001b[0;32m    710\u001b[0m       return self._do_call(_prun_fn, self._session, handle, feed_dict,\n",
      "\u001b[1;32m/usr/local/lib/python3.4/dist-packages/tensorflow/python/client/session.py\u001b[0m in \u001b[0;36m_do_call\u001b[1;34m(self, fn, *args)\u001b[0m\n\u001b[0;32m    713\u001b[0m   \u001b[1;32mdef\u001b[0m \u001b[0m_do_call\u001b[0m\u001b[1;33m(\u001b[0m\u001b[0mself\u001b[0m\u001b[1;33m,\u001b[0m \u001b[0mfn\u001b[0m\u001b[1;33m,\u001b[0m \u001b[1;33m*\u001b[0m\u001b[0margs\u001b[0m\u001b[1;33m)\u001b[0m\u001b[1;33m:\u001b[0m\u001b[1;33m\u001b[0m\u001b[0m\n\u001b[0;32m    714\u001b[0m     \u001b[1;32mtry\u001b[0m\u001b[1;33m:\u001b[0m\u001b[1;33m\u001b[0m\u001b[0m\n\u001b[1;32m--> 715\u001b[1;33m       \u001b[1;32mreturn\u001b[0m \u001b[0mfn\u001b[0m\u001b[1;33m(\u001b[0m\u001b[1;33m*\u001b[0m\u001b[0margs\u001b[0m\u001b[1;33m)\u001b[0m\u001b[1;33m\u001b[0m\u001b[0m\n\u001b[0m\u001b[0;32m    716\u001b[0m     \u001b[1;32mexcept\u001b[0m \u001b[0merrors\u001b[0m\u001b[1;33m.\u001b[0m\u001b[0mOpError\u001b[0m \u001b[1;32mas\u001b[0m \u001b[0me\u001b[0m\u001b[1;33m:\u001b[0m\u001b[1;33m\u001b[0m\u001b[0m\n\u001b[0;32m    717\u001b[0m       \u001b[0mmessage\u001b[0m \u001b[1;33m=\u001b[0m \u001b[0mcompat\u001b[0m\u001b[1;33m.\u001b[0m\u001b[0mas_text\u001b[0m\u001b[1;33m(\u001b[0m\u001b[0me\u001b[0m\u001b[1;33m.\u001b[0m\u001b[0mmessage\u001b[0m\u001b[1;33m)\u001b[0m\u001b[1;33m\u001b[0m\u001b[0m\n",
      "\u001b[1;32m/usr/local/lib/python3.4/dist-packages/tensorflow/python/client/session.py\u001b[0m in \u001b[0;36m_run_fn\u001b[1;34m(session, feed_dict, fetch_list, target_list, options, run_metadata)\u001b[0m\n\u001b[0;32m    695\u001b[0m         return tf_session.TF_Run(session, options,\n\u001b[0;32m    696\u001b[0m                                  \u001b[0mfeed_dict\u001b[0m\u001b[1;33m,\u001b[0m \u001b[0mfetch_list\u001b[0m\u001b[1;33m,\u001b[0m \u001b[0mtarget_list\u001b[0m\u001b[1;33m,\u001b[0m\u001b[1;33m\u001b[0m\u001b[0m\n\u001b[1;32m--> 697\u001b[1;33m                                  status, run_metadata)\n\u001b[0m\u001b[0;32m    698\u001b[0m \u001b[1;33m\u001b[0m\u001b[0m\n\u001b[0;32m    699\u001b[0m     \u001b[1;32mdef\u001b[0m \u001b[0m_prun_fn\u001b[0m\u001b[1;33m(\u001b[0m\u001b[0msession\u001b[0m\u001b[1;33m,\u001b[0m \u001b[0mhandle\u001b[0m\u001b[1;33m,\u001b[0m \u001b[0mfeed_dict\u001b[0m\u001b[1;33m,\u001b[0m \u001b[0mfetch_list\u001b[0m\u001b[1;33m)\u001b[0m\u001b[1;33m:\u001b[0m\u001b[1;33m\u001b[0m\u001b[0m\n",
      "\u001b[1;31mKeyboardInterrupt\u001b[0m: "
     ]
    }
   ],
   "source": [
    "break_all = False\n",
    "n_epochs = 100\n",
    "n_batches = train_set.N//batch_size + 1\n",
    "loss_value = 0\n",
    "total_time = 0.\n",
    "output_file = open(join(model_path,\"output.txt\"),'w')\n",
    "for epoch in range(1,1+n_epochs):\n",
    "    train_gen = train_set.batch_gen(batch_size,shuffle=False)\n",
    "    epoch_loss = []\n",
    "    for idx,batch in enumerate(train_gen):\n",
    "        tic = time()\n",
    "        step = idx + (epoch-1)*n_batches\n",
    "        feed_dict = create_feeddict(batch)\n",
    "        _,loss_value,loss_s = sess.run([train_op,cost,cost_s],feed_dict=feed_dict)\n",
    "        step_time = time() - tic\n",
    "        total_time += step_time\n",
    "        eta = total_time*(n_batches-idx)/(idx+1)\n",
    "        print(\"Epoch %d/%d - batch %d/%d - loss = %1.3f - \" \\\n",
    "        \"step time = %1.1fs - ETA = %s\" % (epoch,n_epochs,\n",
    "                                          idx,n_batches,\n",
    "                                          loss_value,step_time,\n",
    "                                          str(datetime.timedelta(seconds=int(eta)))))\n",
    "        epoch_loss.append(loss_value)\n",
    "        if np.isnan(loss_value):\n",
    "            print(\"Loss is nan, i get out\")\n",
    "            break_all = True\n",
    "        if break_all:\n",
    "            break\n",
    "    print(\"test\")\n",
    "    test_acc = test()\n",
    "    train_loss = np.mean(epoch_loss)\n",
    "    output_file.write(\"Epoch %d - train loss = %1.3f - test accuracy = %1.3f\\n\" % (epoch,train_loss,test_acc))\n",
    "    output_file.flush()\n",
    "    if break_all:\n",
    "        break\n",
    "output_file.close()"
   ]
  },
  {
   "cell_type": "code",
   "execution_count": 163,
   "metadata": {
    "collapsed": false,
    "scrolled": true
   },
   "outputs": [
    {
     "name": "stdout",
     "output_type": "stream",
     "text": [
      "image 0\n"
     ]
    },
    {
     "data": {
      "image/png": "[encoded data removed]",
      "text/plain": [
       "<matplotlib.figure.Figure at 0x7f85d0436a90>"
      ]
     },
     "metadata": {},
     "output_type": "display_data"
    },
    {
     "name": "stdout",
     "output_type": "stream",
     "text": [
      "image 1\n"
     ]
    },
    {
     "data": {
      "image/png": "[encoded data removed]",
      "text/plain": [
       "<matplotlib.figure.Figure at 0x7f85d7e756a0>"
      ]
     },
     "metadata": {},
     "output_type": "display_data"
    },
    {
     "name": "stdout",
     "output_type": "stream",
     "text": [
      "image 2\n"
     ]
    },
    {
     "data": {
      "image/png": "[encoded data removed]",
      "text/plain": [
       "<matplotlib.figure.Figure at 0x7f85f8c0d198>"
      ]
     },
     "metadata": {},
     "output_type": "display_data"
    },
    {
     "name": "stdout",
     "output_type": "stream",
     "text": [
      "image 3\n"
     ]
    },
    {
     "data": {
      "image/png": "[encoded data removed]",
      "text/plain": [
       "<matplotlib.figure.Figure at 0x7f85d5099198>"
      ]
     },
     "metadata": {},
     "output_type": "display_data"
    },
    {
     "name": "stdout",
     "output_type": "stream",
     "text": [
      "image 4\n"
     ]
    },
    {
     "data": {
      "image/png": "[encoded data removed]",
      "text/plain": [
       "<matplotlib.figure.Figure at 0x7f85d7bf6550>"
      ]
     },
     "metadata": {},
     "output_type": "display_data"
    },
    {
     "name": "stdout",
     "output_type": "stream",
     "text": [
      "image 5\n"
     ]
    },
    {
     "data": {
      "image/png": "[encoded data removed]",
      "text/plain": [
       "<matplotlib.figure.Figure at 0x7f85bfb58198>"
      ]
     },
     "metadata": {},
     "output_type": "display_data"
    },
    {
     "name": "stdout",
     "output_type": "stream",
     "text": [
      "image 6\n"
     ]
    },
    {
     "data": {
      "image/png": "[encoded data removed]",
      "text/plain": [
       "<matplotlib.figure.Figure at 0x7f85bfb179e8>"
      ]
     },
     "metadata": {},
     "output_type": "display_data"
    },
    {
     "name": "stdout",
     "output_type": "stream",
     "text": [
      "image 7\n"
     ]
    },
    {
     "data": {
      "image/png": "[encoded data removed]",
      "text/plain": [
       "<matplotlib.figure.Figure at 0x7f84c59d19e8>"
      ]
     },
     "metadata": {},
     "output_type": "display_data"
    }
   ],
   "source": [
    "for j in range(batch_size):\n",
    "    fig = plt.figure(figsize=(12,12))\n",
    "    for i in range(16):\n",
    "        rect = B[j,i,:]\n",
    "        ax = fig.add_subplot(4,4,i+1)\n",
    "        plt.imshow(A[i,j,:,:])\n",
    "        ax.add_patch(patches.Rectangle((rect[0],rect[1]),\n",
    "                                       rect[2],rect[3],\n",
    "                                       fill=False,color=\"yellow\"))\n",
    "        plt.axis('off')\n",
    "    print(\"image %d\" % j)\n",
    "    plt.show()"
   ]
  },
  {
   "cell_type": "code",
   "execution_count": null,
   "metadata": {
    "collapsed": true
   },
   "outputs": [],
   "source": [
    "for j in range(batch_size):\n",
    "    fig = plt.figure(figsize=(12,12))\n",
    "    for i in range(16):\n",
    "        ax = fig.add_subplot(4,4,i+1)\n",
    "        plt.imshow(images[j])\n",
    "        box = boxes[j,i]\n",
    "        ax.add_patch(patches.Rectangle((box[0],box[1]),\n",
    "                                       box[2],box[3],fill=False,color='yellow'))\n",
    "        plt.axis('off')\n",
    "    plt.show()"
   ]
  },
  {
   "cell_type": "markdown",
   "metadata": {},
   "source": [
    "8:\n",
    "Feeddict = 0.637s (0.080s/image)\n",
    "Forward = 0.494s (0.062s/image)\n",
    "16: \n",
    "Feeddict = 1.419s (0.089s/image)\n",
    "Forward = 1.135s (0.071s/image)\n",
    "20:\n",
    "Feeddict = 1.638s (0.082s/image)\n",
    "Forward = 1.854s (0.093s/image)\n",
    "\n",
    "8:\n",
    "Feeddict = 0.830s (0.104s/image)\n",
    "Forward = 1.710s (0.214s/image)\n",
    "16:\n",
    "Feeddict = 1.397s (0.087s/image)\n",
    "Forward = 3.318s (0.207s/image)\n",
    "20:\n",
    "Feeddict = 1.617s (0.081s/image)\n",
    "Forward = 2.684s (0.134s/image)"
   ]
  }
 ],
 "metadata": {
  "kernelspec": {
   "display_name": "Python 3",
   "language": "python",
   "name": "python3"
  },
  "language_info": {
   "codemirror_mode": {
    "name": "ipython",
    "version": 3
   },
   "file_extension": ".py",
   "mimetype": "text/x-python",
   "name": "python",
   "nbconvert_exporter": "python",
   "pygments_lexer": "ipython3",
   "version": "3.4.3"
  }
 },
 "nbformat": 4,
 "nbformat_minor": 0
}
