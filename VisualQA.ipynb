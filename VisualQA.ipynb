{
 "cells": [
  {
   "cell_type": "code",
   "execution_count": 1,
   "metadata": {
    "collapsed": true
   },
   "outputs": [],
   "source": [
    "import json"
   ]
  },
  {
   "cell_type": "code",
   "execution_count": 2,
   "metadata": {
    "collapsed": false
   },
   "outputs": [
    {
     "name": "stdout",
     "output_type": "stream",
     "text": [
      "dict_keys(['info', 'annotations', 'data_subtype', 'data_type', 'license'])\n",
      "dict_keys(['task_type', 'license', 'info', 'questions', 'data_type', 'data_subtype'])\n"
     ]
    }
   ],
   "source": [
    "A = json.loads(open('datasets/vqa/train/mscoco_train2014_annotations.json','r').read())\n",
    "print(A.keys())\n",
    "D = json.loads(open('datasets/vqa/train/OpenEnded_mscoco_train2014_questions.json','r').read())\n",
    "print(D.keys())"
   ]
  },
  {
   "cell_type": "code",
   "execution_count": 3,
   "metadata": {
    "collapsed": false
   },
   "outputs": [],
   "source": [
    "dataset = {}\n",
    "keys = 'image_id question'.split()\n",
    "for d in D['questions']:\n",
    "    dataset[d['question_id']] = dict((k,d[k]) for k in keys)\n",
    "for a in A['annotations']:\n",
    "    answers = [x['answer'] for x in a['answers']]\n",
    "    dataset[a['question_id']]['answers'] = answers"
   ]
  },
  {
   "cell_type": "code",
   "execution_count": 4,
   "metadata": {
    "collapsed": false
   },
   "outputs": [],
   "source": [
    "questions = [dataset[d]['question'] for d in dataset]"
   ]
  },
  {
   "cell_type": "code",
   "execution_count": 5,
   "metadata": {
    "collapsed": false
   },
   "outputs": [
    {
     "name": "stdout",
     "output_type": "stream",
     "text": [
      "above : 602\n",
      "around : 733\n",
      "away : 219\n",
      "back : 887\n",
      "behind : 1459\n",
      "below : 143\n",
      "beside : 145\n",
      "besides : 92\n",
      "between : 269\n",
      "big : 471\n",
      "bigger : 92\n",
      "biggest : 36\n",
      "bottom : 507\n",
      "close : 183\n",
      "closer : 45\n",
      "closest : 295\n",
      "corner : 306\n",
      "down : 967\n",
      "far : 295\n",
      "farther : 3\n",
      "front : 1528\n",
      "furthest : 30\n",
      "high : 410\n",
      "higher : 55\n",
      "highest : 28\n",
      "inside : 679\n",
      "large : 513\n",
      "larger : 75\n",
      "largest : 55\n",
      "left : 2252\n",
      "middle : 485\n",
      "near : 561\n",
      "nearest : 61\n",
      "outside : 920\n",
      "over : 640\n",
      "right : 2321\n",
      "size : 266\n",
      "small : 385\n",
      "smaller : 93\n",
      "smallest : 33\n",
      "thin : 35\n",
      "top : 1726\n",
      "under : 803\n",
      "up : 1548\n",
      "upper : 85\n",
      "\n",
      "----------------------------------------\n",
      "248349 questions with 152050 different\n",
      "23336 spatial questions with 18473 different\n"
     ]
    }
   ],
   "source": [
    "words = set(\"behind close closer closest far farther furthest left right top bottom \\\n",
    "         big biggest bigger small smallest smaller down back above below between near nearest \\\n",
    "         under corner upper high highest higher under beside outside inside front \\\n",
    "         middle around over up besides size away large larger largest thin\".split())\n",
    "\n",
    "spatial_questions = {}\n",
    "spatial_questions= dict((k,[]) for k in words)\n",
    "for q in questions:\n",
    "    qwords = q.strip('?').split()\n",
    "    for w in words:\n",
    "        if w in qwords:\n",
    "            spatial_questions[w].append(q)\n",
    "\n",
    "spatial_list = [q for v in spatial_questions.values() for q in v]\n",
    "lengths = {}\n",
    "for w in words:\n",
    "    lengths[w] = len(spatial_questions[w])\n",
    "for l in sorted(lengths,reverse=False):\n",
    "# for l in lengths:\n",
    "    print(\"%s : %d\" % (l, lengths[l]))\n",
    "print('\\n'+'-'*40)\n",
    "print('%d questions with %d different' % (len(questions),len(set(questions))))\n",
    "print('%d spatial questions with %d different' % (len(spatial_list),len(set(spatial_list))))"
   ]
  }
 ],
 "metadata": {
  "kernelspec": {
   "display_name": "Python 3",
   "language": "python",
   "name": "python3"
  },
  "language_info": {
   "codemirror_mode": {
    "name": "ipython",
    "version": 3
   },
   "file_extension": ".py",
   "mimetype": "text/x-python",
   "name": "python",
   "nbconvert_exporter": "python",
   "pygments_lexer": "ipython3",
   "version": "3.4.3"
  }
 },
 "nbformat": 4,
 "nbformat_minor": 0
}
