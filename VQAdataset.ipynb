{
 "cells": [
  {
   "cell_type": "code",
   "execution_count": 1,
   "metadata": {
    "collapsed": true
   },
   "outputs": [],
   "source": [
    "import json\n",
    "from os.path import join\n",
    "from collections import Counter\n",
    "\n",
    "%matplotlib inline\n",
    "import matplotlib.pyplot as plt\n",
    "import numpy as np\n"
   ]
  },
  {
   "cell_type": "code",
   "execution_count": 23,
   "metadata": {
    "collapsed": false
   },
   "outputs": [],
   "source": [
    "def extract_triplets(D,A):\n",
    "    questions, image_ids, answers, mcs =[],[],[],[]\n",
    "    for d,a in zip(D['questions'],A['annotations']):\n",
    "        assert d['image_id'] == a['image_id']\n",
    "        questions.append(d['question'])\n",
    "        image_ids.append(d['image_id'])\n",
    "        answers.append(a['multiple_choice_answer'])\n",
    "        mcs.append(' | '.join(d['multiple_choices']))\n",
    "    print(\"%d questions (%d different)\" % (len(questions), len(set(questions))))\n",
    "    print(\"%d images (%d different)\" % (len(image_ids), len(set(image_ids))))\n",
    "    return questions, image_ids, answers, mcs\n",
    "\n",
    "def extract_spatial_triplets(questions,image_ids,answers,mcs):\n",
    "    words = open('spatial_words.txt','r').read().split()\n",
    "\n",
    "    IQA = set()\n",
    "    for q,i,a,mc in zip(questions, image_ids,answers,mcs):\n",
    "        qwords = set(q.lower().strip('?').split())\n",
    "        if len(qwords.intersection(words))>=1:\n",
    "            IQA.add((i,q,a,mc))\n",
    "    spatial_questions = []\n",
    "    spatial_image_ids = []\n",
    "    spatial_answers = []\n",
    "    spatial_mcs = []\n",
    "    for i,q,a,mc in IQA:\n",
    "        spatial_questions.append(q)\n",
    "        spatial_image_ids.append(i)\n",
    "        spatial_answers.append(a)\n",
    "        spatial_mcs.append(mc)\n",
    "    print(\"%d questions (%d different)\" % (len(spatial_questions), len(set(spatial_questions))))\n",
    "    print(\"%d images (%d different)\" % (len(spatial_image_ids), len(set(spatial_image_ids))))\n",
    "    return spatial_questions, spatial_image_ids, spatial_answers, spatial_mcs\n",
    "\n",
    "def write_triplets(spatial_questions,spatial_image_ids,spatial_answers,spatial_mcs,split):\n",
    "    image_file = open('datasets/vqa/'+split+'/img_ids.txt','w',encoding='utf-8')\n",
    "    question_file = open('datasets/vqa/'+split+'/questions.txt','w',encoding='utf-8')\n",
    "    answer_file = open('datasets/vqa/'+split+'/answers.txt','w',encoding='utf-8')\n",
    "    mc_file = open('datasets/vqa/'+split+'/mcs.txt','w',encoding='utf-8')\n",
    "    for i,q,a,mc in zip(spatial_image_ids, spatial_questions, spatial_answers,spatial_mcs):\n",
    "        image_file.write(str(i) + '\\n')\n",
    "        question_file.write(q.lower().strip('?') + '\\n')\n",
    "        mc_file.write(mc+'\\n')\n",
    "        answer_file.write(a +'\\n')\n",
    "    image_file.close()\n",
    "    question_file.close()\n",
    "    answer_file.close()\n",
    "    mc_file.close()\n",
    "    return 'done'"
   ]
  },
  {
   "cell_type": "code",
   "execution_count": 24,
   "metadata": {
    "collapsed": false
   },
   "outputs": [
    {
     "name": "stdout",
     "output_type": "stream",
     "text": [
      "248349 questions (152050 different)\n",
      "248349 images (82783 different)\n",
      "121512 questions (81565 different)\n",
      "121512 images (40504 different)\n"
     ]
    }
   ],
   "source": [
    "for split in 'train val'.split():\n",
    "    D = json.loads(open('datasets/vqa/'+split+'/MultipleChoice_mscoco_'+split+'2014_questions.json').read())\n",
    "    A = json.loads(open('datasets/vqa/'+split+'/mscoco_'+split+'2014_annotations.json').read())\n",
    "    O = json.loads(open('datasets/vqa/'+split+'/OpenEnded_mscoco_'+split+'2014_questions.json').read())\n",
    "    questions,image_ids,answers,mcs = extract_triplets(D,A)\n",
    "    write_triplets(questions,image_ids,answers,mcs,split)"
   ]
  }
 ],
 "metadata": {
  "kernelspec": {
   "display_name": "Python 3",
   "language": "python",
   "name": "python3"
  },
  "language_info": {
   "codemirror_mode": {
    "name": "ipython",
    "version": 3
   },
   "file_extension": ".py",
   "mimetype": "text/x-python",
   "name": "python",
   "nbconvert_exporter": "python",
   "pygments_lexer": "ipython3",
   "version": "3.4.3"
  }
 },
 "nbformat": 4,
 "nbformat_minor": 0
}
